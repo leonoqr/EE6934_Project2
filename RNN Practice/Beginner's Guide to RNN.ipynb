{
 "cells": [
  {
   "cell_type": "markdown",
   "metadata": {},
   "source": [
    "Source: [Link](https://blog.floydhub.com/a-beginners-guide-on-recurrent-neural-networks-with-pytorch/)  \n",
    "Note: This is more of a NLP application and uses words/text instead of video"
   ]
  },
  {
   "cell_type": "code",
   "execution_count": 1,
   "metadata": {},
   "outputs": [],
   "source": [
    "import torch\n",
    "from torch import nn\n",
    "import numpy as np"
   ]
  },
  {
   "cell_type": "markdown",
   "metadata": {},
   "source": [
    "# Create 'Dataset'"
   ]
  },
  {
   "cell_type": "code",
   "execution_count": 2,
   "metadata": {},
   "outputs": [
    {
     "name": "stdout",
     "output_type": "stream",
     "text": [
      "int2char:\n",
      "{0: 'y', 1: 'w', 2: 'f', 3: 'v', 4: 'g', 5: 'u', 6: 'm', 7: 'c', 8: 'd', 9: ' ', 10: 'n', 11: 'a', 12: 'h', 13: 'r', 14: 'i', 15: 'o', 16: 'e'}\n",
      "char2int\n",
      "{'y': 0, 'w': 1, 'f': 2, 'v': 3, 'g': 4, 'u': 5, 'm': 6, 'c': 7, 'd': 8, ' ': 9, 'n': 10, 'a': 11, 'h': 12, 'r': 13, 'i': 14, 'o': 15, 'e': 16}\n"
     ]
    }
   ],
   "source": [
    "text = ['hey how are you', 'good i am fine', 'have a nice day']\n",
    "\n",
    "# Add all the sentences, get unique characters\n",
    "chars = set(''.join(text))\n",
    "\n",
    "# Create dictionary that maps integers to characters\n",
    "int2char = dict(enumerate(chars))\n",
    "print(\"int2char:\")\n",
    "print(int2char)\n",
    "\n",
    "# Create reverse dictionary\n",
    "char2int = {char: ind for ind, char in int2char.items()}\n",
    "print(\"char2int\")\n",
    "print(char2int)"
   ]
  },
  {
   "cell_type": "markdown",
   "metadata": {},
   "source": [
    "## Add Padding"
   ]
  },
  {
   "cell_type": "code",
   "execution_count": 3,
   "metadata": {},
   "outputs": [
    {
     "name": "stdout",
     "output_type": "stream",
     "text": [
      "'hey how are you'\n",
      "'good i am fine '\n",
      "'have a nice day'\n"
     ]
    }
   ],
   "source": [
    "# Get length of longest sentence\n",
    "maxlen = len(max(text, key=len))\n",
    "\n",
    "# Pad end of sentences with whitespace\n",
    "for i in range(len(text)):\n",
    "    while len(text[i]) < maxlen:\n",
    "        text[i] += ' ' \n",
    "        \n",
    "# Display all the Sentences\n",
    "for sen in text:\n",
    "    print(\"\\'\" + sen +  \"\\'\")"
   ]
  },
  {
   "cell_type": "markdown",
   "metadata": {},
   "source": [
    "## Create actual input data "
   ]
  },
  {
   "cell_type": "code",
   "execution_count": 4,
   "metadata": {},
   "outputs": [
    {
     "name": "stdout",
     "output_type": "stream",
     "text": [
      "Input Sequence: hey how are yo\n",
      "Target Sequence: ey how are you\n",
      "Input Sequence: good i am fine\n",
      "Target Sequence: ood i am fine \n",
      "Input Sequence: have a nice da\n",
      "Target Sequence: ave a nice day\n"
     ]
    }
   ],
   "source": [
    "input_seq = []\n",
    "target_seq = []\n",
    "\n",
    "for i in range(len(text)):\n",
    "    \n",
    "    # Remove last character for input sequence\n",
    "    input_seq.append(text[i][:-1])\n",
    "    \n",
    "    # Remove first character for target sequence\n",
    "    target_seq.append(text[i][1:])\n",
    "    print(\"Input Sequence: {}\\nTarget Sequence: {}\".format(input_seq[i], target_seq[i]))"
   ]
  },
  {
   "cell_type": "code",
   "execution_count": 5,
   "metadata": {},
   "outputs": [
    {
     "name": "stdout",
     "output_type": "stream",
     "text": [
      "[[12, 16, 0, 9, 12, 15, 1, 9, 11, 13, 16, 9, 0, 15], [4, 15, 15, 8, 9, 14, 9, 11, 6, 9, 2, 14, 10, 16], [12, 11, 3, 16, 9, 11, 9, 10, 14, 7, 16, 9, 8, 11]]\n",
      "[[16, 0, 9, 12, 15, 1, 9, 11, 13, 16, 9, 0, 15, 5], [15, 15, 8, 9, 14, 9, 11, 6, 9, 2, 14, 10, 16, 9], [11, 3, 16, 9, 11, 9, 10, 14, 7, 16, 9, 8, 11, 0]]\n"
     ]
    }
   ],
   "source": [
    "# Convert input data into integers via the dictionaries\n",
    "for i in range(len(text)):\n",
    "    input_seq[i] = [char2int[character] for character in input_seq[i]]\n",
    "    target_seq[i] = [char2int[character] for character in target_seq[i]]\n",
    "    \n",
    "print(input_seq)\n",
    "print(target_seq)"
   ]
  },
  {
   "cell_type": "code",
   "execution_count": 6,
   "metadata": {},
   "outputs": [],
   "source": [
    "dict_size = len(char2int)\n",
    "seq_len = maxlen - 1\n",
    "batch_size = len(text)\n",
    "\n",
    "def one_hot_encode(sequence, dict_size, seq_len, batch_size):\n",
    "    # Creating a multi-dimensional array of zeros with the desired output shape\n",
    "    features = np.zeros((batch_size, seq_len, dict_size), dtype=np.float32)\n",
    "    \n",
    "    # Replacing the 0 at the relevant character index with a 1 to represent that character\n",
    "    for i in range(batch_size):\n",
    "        for u in range(seq_len):\n",
    "            features[i, u, sequence[i][u]] = 1\n",
    "    return features"
   ]
  },
  {
   "cell_type": "code",
   "execution_count": 7,
   "metadata": {},
   "outputs": [],
   "source": [
    "# implement one-hot encoding\n",
    "input_seq = one_hot_encode(input_seq, dict_size, seq_len, batch_size)"
   ]
  },
  {
   "cell_type": "code",
   "execution_count": 8,
   "metadata": {},
   "outputs": [],
   "source": [
    "# Convert to torch tensors\n",
    "input_seq = torch.from_numpy(input_seq)\n",
    "target_seq = torch.Tensor(target_seq)"
   ]
  },
  {
   "cell_type": "markdown",
   "metadata": {},
   "source": [
    "# Building the Model"
   ]
  },
  {
   "cell_type": "code",
   "execution_count": 9,
   "metadata": {},
   "outputs": [
    {
     "name": "stdout",
     "output_type": "stream",
     "text": [
      "GPU unavailable, Use CPU\n"
     ]
    }
   ],
   "source": [
    "# Check if GPU is available\n",
    "is_cuda = torch.cuda.is_available()\n",
    "\n",
    "if is_cuda:\n",
    "    device = torch.device(\"cuda\")\n",
    "    print(\"GPU available\")\n",
    "else:\n",
    "    device = torch.device(\"cpu\")\n",
    "    print(\"GPU unavailable, Use CPU\")"
   ]
  },
  {
   "cell_type": "markdown",
   "metadata": {},
   "source": [
    "This Model: 1 Layer of RNN, followed by a fully connected layer\n",
    "\n",
    "Need to define:  \n",
    "- a forward() function for sequetial execution\n",
    "- init_hidden() to initialize the hidden state"
   ]
  },
  {
   "cell_type": "code",
   "execution_count": 10,
   "metadata": {},
   "outputs": [],
   "source": [
    "class RNNModel(nn.Module):\n",
    "    \n",
    "    def __init__(self, input_size, output_size, hidden_dim, n_layers):\n",
    "        super(RNNModel, self).__init__()\n",
    "        \n",
    "        # Define some parameters\n",
    "        self.hidden_dim = hidden_dim\n",
    "        self.n_layers = n_layers\n",
    "        \n",
    "        # Model Layers\n",
    "        \n",
    "        # RNN Layer\n",
    "        self.rnn = nn.RNN(input_size, hidden_dim, n_layers, batch_first=True)\n",
    "        \n",
    "        # FC Layer\n",
    "        self.fc = nn.Linear(hidden_dim, output_size)\n",
    "        \n",
    "    def forward(self, x):\n",
    "        \n",
    "        batch_size = x.size(0)\n",
    "        \n",
    "        # Initialize the hidden state for the first input using init_hidden()\n",
    "        hidden = self.init_hidden(batch_size)\n",
    "        \n",
    "        # Passing in the input and hidden state into the model and obtain the outputs\n",
    "        out, hidden = self.rnn(x, hidden)\n",
    "        \n",
    "        # Reshape outputs so that it fits into the FC layer\n",
    "        out = out.contiguous().view(-1, self.hidden_dim)\n",
    "        out = self.fc(out)\n",
    "        \n",
    "        return out, hidden\n",
    "    \n",
    "    def init_hidden(self, batch_size):\n",
    "        \n",
    "        # Just zeros\n",
    "        hidden = torch.zeros(self.n_layers, batch_size, self.hidden_dim)\n",
    "        return hidden\n",
    "        "
   ]
  },
  {
   "cell_type": "markdown",
   "metadata": {},
   "source": [
    "# Training the Model"
   ]
  },
  {
   "cell_type": "code",
   "execution_count": 11,
   "metadata": {},
   "outputs": [],
   "source": [
    "# Instantiate hyperparams\n",
    "model = RNNModel(input_size=dict_size, output_size=dict_size, hidden_dim = 12, n_layers=1)\n",
    "model.to(device) # Set CPU/GPU\n",
    "\n",
    "# Define hyperparams\n",
    "n_epochs = 100\n",
    "lr = 0.01\n",
    "\n",
    "#Define Loss, Optimizer\n",
    "criterion = nn.CrossEntropyLoss()\n",
    "optimizer = torch.optim.Adam(model.parameters(), lr=lr)"
   ]
  },
  {
   "cell_type": "code",
   "execution_count": 12,
   "metadata": {},
   "outputs": [
    {
     "name": "stdout",
     "output_type": "stream",
     "text": [
      "Epoch: 10/100... Loss: 2.4404\n",
      "Epoch: 20/100... Loss: 2.1932\n",
      "Epoch: 30/100... Loss: 1.7878\n",
      "Epoch: 40/100... Loss: 1.3279\n",
      "Epoch: 50/100... Loss: 0.9278\n",
      "Epoch: 60/100... Loss: 0.6400\n",
      "Epoch: 70/100... Loss: 0.4426\n",
      "Epoch: 80/100... Loss: 0.3117\n",
      "Epoch: 90/100... Loss: 0.2265\n",
      "Epoch: 100/100... Loss: 0.1706\n"
     ]
    }
   ],
   "source": [
    "# Training Run\n",
    "for epoch in range(1, n_epochs + 1):\n",
    "    optimizer.zero_grad() # Clear existing gradients from last epoch\n",
    "    input_seq.to(device)\n",
    "    output, hidden = model(input_seq)\n",
    "    \n",
    "    # Compute loss\n",
    "    loss = criterion(output, target_seq.view(-1).long())\n",
    "    loss.backward() # backprop, calcylate gradients\n",
    "    optimizer.step() # UPdate weights\n",
    "    \n",
    "    # Print Status Message\n",
    "    if epoch%10 == 0:\n",
    "        print(\"Epoch: {}/{}...\".format(epoch, n_epochs), end=' ')\n",
    "        print(\"Loss: {:.4f}\".format(loss.item()))\n",
    "    "
   ]
  },
  {
   "cell_type": "markdown",
   "metadata": {},
   "source": [
    "# Testing the Model"
   ]
  },
  {
   "cell_type": "code",
   "execution_count": 13,
   "metadata": {},
   "outputs": [],
   "source": [
    "# take in model and character, returns next character prediciton\n",
    "def predict(model, character):\n",
    "    # One-hot encoding our input to fit into the model\n",
    "    character = np.array([[char2int[c] for c in character]])\n",
    "    character = one_hot_encode(character, dict_size, character.shape[1], 1)\n",
    "    character = torch.from_numpy(character)\n",
    "    character = character.to(device)\n",
    "    \n",
    "    out, hidden = model(character)\n",
    "\n",
    "    prob = nn.functional.softmax(out[-1], dim=0).data\n",
    "    # Taking the class with the highest probability score from the output\n",
    "    char_ind = torch.max(prob, dim=0)[1].item()\n",
    "\n",
    "    return int2char[char_ind], hidden"
   ]
  },
  {
   "cell_type": "code",
   "execution_count": 14,
   "metadata": {},
   "outputs": [],
   "source": [
    "def sample(model, out_len, start='hey'):\n",
    "    model.eval() # set model to eval mode\n",
    "    start = start.lower()\n",
    "    \n",
    "    # run through starting char\n",
    "    chars = [ch for ch in start]\n",
    "    size = out_len - len(chars)\n",
    "    \n",
    "    # Pass in previous characters and get a new one\n",
    "    for ii in range(size):\n",
    "        char, h = predict(model, chars)\n",
    "        chars.append(char)\n",
    "    \n",
    "    return ''.join(chars)"
   ]
  },
  {
   "cell_type": "code",
   "execution_count": 20,
   "metadata": {},
   "outputs": [
    {
     "data": {
      "text/plain": [
       "'how fine a nice'"
      ]
     },
     "execution_count": 20,
     "metadata": {},
     "output_type": "execute_result"
    }
   ],
   "source": [
    "sample(model, 15, 'how')"
   ]
  },
  {
   "cell_type": "code",
   "execution_count": null,
   "metadata": {},
   "outputs": [],
   "source": []
  }
 ],
 "metadata": {
  "kernelspec": {
   "display_name": "Python 3",
   "language": "python",
   "name": "python3"
  },
  "language_info": {
   "codemirror_mode": {
    "name": "ipython",
    "version": 3
   },
   "file_extension": ".py",
   "mimetype": "text/x-python",
   "name": "python",
   "nbconvert_exporter": "python",
   "pygments_lexer": "ipython3",
   "version": "3.7.4"
  }
 },
 "nbformat": 4,
 "nbformat_minor": 2
}
