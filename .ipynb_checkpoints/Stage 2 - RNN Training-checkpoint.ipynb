{
 "cells": [
  {
   "cell_type": "code",
   "execution_count": 1,
   "metadata": {},
   "outputs": [],
   "source": [
    "# Imports\n",
    "import os\n",
    "import torch\n",
    "import numpy as np\n",
    "\n",
    "# Training/Test Set Creation - to use later\n",
    "from sklearn.model_selection import StratifiedShuffleSplit\n",
    "\n",
    "# Dataset Creation\n",
    "from torch.utils.data import Dataset, DataLoader, Subset\n",
    "import torchvision.transforms as transforms\n",
    "\n",
    "# Model Training and Definition\n",
    "from torch import nn\n",
    "from torch import optim\n",
    "from torch.optim.lr_scheduler import CosineAnnealingLR, ReduceLROnPlateau\n",
    "import trainutils"
   ]
  },
  {
   "cell_type": "code",
   "execution_count": 2,
   "metadata": {},
   "outputs": [],
   "source": [
    "# Specify directories\n",
    "frame_folder = \"./data/frames\""
   ]
  },
  {
   "cell_type": "markdown",
   "metadata": {},
   "source": [
    "# Create Training and Test Sets"
   ]
  },
  {
   "cell_type": "code",
   "execution_count": 3,
   "metadata": {},
   "outputs": [
    {
     "data": {
      "text/plain": [
       "{'0-50 ms': 0,\n",
       " '51-100 ms': 1,\n",
       " '101-150 ms': 2,\n",
       " '151-200 ms': 3,\n",
       " '201-250 ms': 4,\n",
       " '251-300 ms': 5,\n",
       " '301-350 ms': 6,\n",
       " '351-400 ms': 7,\n",
       " '401-450 ms': 8,\n",
       " '451-500 ms': 9,\n",
       " '501-550 ms': 10,\n",
       " '551-600 ms': 11,\n",
       " '601-650 ms': 12,\n",
       " '651-700 ms': 13,\n",
       " '701-750 ms': 14,\n",
       " '751-800 ms': 15,\n",
       " '801-850 ms': 16,\n",
       " '851-900 ms': 17,\n",
       " '901-950 ms': 18,\n",
       " '951-1000 ms': 19}"
      ]
     },
     "execution_count": 3,
     "metadata": {},
     "output_type": "execute_result"
    }
   ],
   "source": [
    "# Define label dictionary - 20 classes\n",
    "syncs = [  \"0-50 ms\",   \"51-100 ms\", \"101-150 ms\", \"151-200 ms\", \"201-250 ms\",\n",
    "         \"251-300 ms\", \"301-350 ms\", \"351-400 ms\", \"401-450 ms\", \"451-500 ms\", \n",
    "         \"501-550 ms\", \"551-600 ms\", \"601-650 ms\", \"651-700 ms\", \"701-750 ms\", \n",
    "         \"751-800 ms\", \"801-850 ms\", \"851-900 ms\", \"901-950 ms\", \"951-1000 ms\" ]\n",
    "sync_dict = {}\n",
    "\n",
    "count = 0\n",
    "for sync_val in syncs:\n",
    "    sync_dict[sync_val] = count\n",
    "    count += 1\n",
    "\n",
    "# preview dictionary\n",
    "sync_dict"
   ]
  },
  {
   "cell_type": "code",
   "execution_count": 4,
   "metadata": {},
   "outputs": [
    {
     "name": "stdout",
     "output_type": "stream",
     "text": [
      "Current Video: video1\n"
     ]
    },
    {
     "data": {
      "text/plain": [
       "(84, 84)"
      ]
     },
     "execution_count": 4,
     "metadata": {},
     "output_type": "execute_result"
    }
   ],
   "source": [
    "# Construct X = folder names, y = the label\n",
    "\n",
    "vf_list = os.listdir(frame_folder)\n",
    "\n",
    "X_paths = [] # paths of segment folders\n",
    "y = [] # designated label\n",
    "\n",
    "for vf_folder in vf_list:\n",
    "    \n",
    "    # Create path to video\n",
    "    vf_path = os.path.join(frame_folder, vf_folder)\n",
    "    print(\"Current Video: \"+ vf_folder)\n",
    "    \n",
    "    # Get individual segment folder\n",
    "    segfolder_list = os.listdir(vf_path)\n",
    "    \n",
    "    # Check every segment folder\n",
    "    for seg_folder in segfolder_list:\n",
    "        \n",
    "        #print(seg_folder)\n",
    "        x_path = os.path.join(vf_path, seg_folder)\n",
    "        #print(x_path)\n",
    "        X_paths.append(x_path)\n",
    "        \n",
    "        # Extract class label from folder name\n",
    "        label = int(seg_folder.split(\"_\")[2])\n",
    "        #print(label)\n",
    "        y.append(label)\n",
    "\n",
    "# Display video count\n",
    "len(X_paths), len(y)"
   ]
  },
  {
   "cell_type": "code",
   "execution_count": 5,
   "metadata": {},
   "outputs": [
    {
     "data": {
      "text/plain": [
       "Counter({10: 5,\n",
       "         11: 4,\n",
       "         16: 4,\n",
       "         3: 7,\n",
       "         0: 3,\n",
       "         12: 4,\n",
       "         18: 5,\n",
       "         19: 5,\n",
       "         4: 3,\n",
       "         5: 4,\n",
       "         6: 5,\n",
       "         8: 4,\n",
       "         9: 4,\n",
       "         1: 3,\n",
       "         2: 5,\n",
       "         13: 2,\n",
       "         14: 4,\n",
       "         15: 4,\n",
       "         17: 6,\n",
       "         7: 3})"
      ]
     },
     "execution_count": 5,
     "metadata": {},
     "output_type": "execute_result"
    }
   ],
   "source": [
    "# Preview Data distribution\n",
    "from collections import Counter\n",
    "Counter(y)"
   ]
  },
  {
   "cell_type": "code",
   "execution_count": 6,
   "metadata": {},
   "outputs": [
    {
     "name": "stdout",
     "output_type": "stream",
     "text": [
      "Training Set: (58,58)\n",
      "TEst Set: (26,26)\n"
     ]
    }
   ],
   "source": [
    "### To Implement when we have enough videos\n",
    "\n",
    "# Split into training and test sets\n",
    "splitter = StratifiedShuffleSplit(n_splits = 2, test_size = 0.3, random_state = 0)\n",
    "train_set, test_set = next(splitter.split(X_paths, y))\n",
    "\n",
    "# Training Set\n",
    "train_X_paths = [X_paths[i] for i in train_set]\n",
    "train_ys = [y[i] for i in train_set]\n",
    "print(\"Training Set: ({0},{1})\".format(len(train_X_paths), len(train_ys)))\n",
    "\n",
    "# Test Set\n",
    "test_X_paths = [X_paths[i] for i in test_set]\n",
    "test_ys = [y[i] for i in test_set]\n",
    "print(\"TEst Set: ({0},{1})\".format(len(test_X_paths), len(test_ys)))"
   ]
  },
  {
   "cell_type": "code",
   "execution_count": 7,
   "metadata": {},
   "outputs": [],
   "source": [
    "# Temporary Training Set\n",
    "#train_X_paths = X_paths\n",
    "#train_ys = y\n",
    "\n",
    "# Temporary Test Set - get a random video: # 18, 19\n",
    "#test_X_paths = X_paths[18:20]\n",
    "#test_ys = y[18:20]\n",
    "\n",
    "#len(train_ys), len(test_ys)"
   ]
  },
  {
   "cell_type": "markdown",
   "metadata": {},
   "source": [
    "# Create Pytorch Dataset"
   ]
  },
  {
   "cell_type": "code",
   "execution_count": 8,
   "metadata": {},
   "outputs": [],
   "source": [
    "# Set seeds for reproducibility\n",
    "#np.random.seed(2020)\n",
    "#orch.manual_seed(2020)"
   ]
  },
  {
   "cell_type": "code",
   "execution_count": 9,
   "metadata": {},
   "outputs": [],
   "source": [
    "# Create Dataset Class\n",
    "class SyncDataset(Dataset):\n",
    "    \n",
    "    def __init__(self, X, y, transform=None):\n",
    "        self.transform = transform\n",
    "        self.X = X\n",
    "        self.y = y\n",
    "    \n",
    "    # Returns length\n",
    "    def __len__(self):\n",
    "        return len(self.X)\n",
    "    \n",
    "    # Returns X feature array and y value\n",
    "    def __getitem__(self, idx):\n",
    "        \n",
    "        # Load npz file\n",
    "        npz_path = self.X[idx]+'/features.npz'\n",
    "        #print(npz_path)\n",
    "        data = np.load(npz_path)\n",
    "        X_feat = data['feature_array']\n",
    "        \n",
    "        # Transform if needed\n",
    "        \n",
    "        # Convert X to tensor\n",
    "        X_tensor = torch.from_numpy(X_feat).float()\n",
    "        \n",
    "        # Convert y to one-hot encoding\n",
    "        #encoding = np.zeros((1,20))\n",
    "        #encoding[0, self.y[idx]] = 1\n",
    "        \n",
    "        # Convert to tensor\n",
    "        #y_tensor = torch.tensor(self.y[idx]).long()\n",
    "        \n",
    "        return X_tensor, self.y[idx] # y_tensor"
   ]
  },
  {
   "cell_type": "code",
   "execution_count": 10,
   "metadata": {},
   "outputs": [],
   "source": [
    "# Define Transformer - may need it for later, unused for now\n",
    "transformer = transforms.Compose([\n",
    "    transforms.ToTensor() # Add min-max scaler, or an normalizer\n",
    "])"
   ]
  },
  {
   "cell_type": "code",
   "execution_count": 11,
   "metadata": {},
   "outputs": [
    {
     "name": "stdout",
     "output_type": "stream",
     "text": [
      "58\n",
      "26\n"
     ]
    }
   ],
   "source": [
    "# Define Training Dataset \n",
    "training_dataset = SyncDataset(X = train_X_paths, y = train_ys, transform = transformer)\n",
    "print(len(training_dataset))\n",
    "\n",
    "# Define Test Dataset\n",
    "testing_dataset = SyncDataset(X = test_X_paths, y = test_ys, transform = transformer)\n",
    "print(len(testing_dataset))"
   ]
  },
  {
   "cell_type": "code",
   "execution_count": 12,
   "metadata": {},
   "outputs": [
    {
     "data": {
      "text/plain": [
       "(torch.Size([20, 168]), 6)"
      ]
     },
     "execution_count": 12,
     "metadata": {},
     "output_type": "execute_result"
    }
   ],
   "source": [
    "# Grab a row to see contents\n",
    "sample_X, sample_y = training_dataset[2]\n",
    "sample_X.shape, sample_y"
   ]
  },
  {
   "cell_type": "markdown",
   "metadata": {},
   "source": [
    "# Define Data Loader  \n",
    "\n",
    "Data Loader for extracting batches from the Pytorch Dataset during model training"
   ]
  },
  {
   "cell_type": "code",
   "execution_count": 13,
   "metadata": {},
   "outputs": [],
   "source": [
    "def batch_collater(batch):\n",
    "    X_batch, y_batch = list(zip(*batch))\n",
    "    \n",
    "    # Separate batch into X and y\n",
    "    X_batch = [x for x in X_batch if len(x) > 0]\n",
    "    y_batch = [torch.tensor(y) for y, x in zip(y_batch, X_batch) if len(x) > 0]\n",
    "    \n",
    "    # Convert into tensors\n",
    "    X_tensor = torch.stack(X_batch)\n",
    "    y_tensor = torch.stack(y_batch)\n",
    "    \n",
    "    return X_tensor, y_tensor"
   ]
  },
  {
   "cell_type": "code",
   "execution_count": 14,
   "metadata": {},
   "outputs": [],
   "source": [
    "# Specify batch size\n",
    "batch_size = 20\n",
    "\n",
    "training_loader = DataLoader(training_dataset, batch_size = batch_size, shuffle=True, collate_fn=batch_collater)\n",
    "testing_loader = DataLoader(testing_dataset, batch_size = batch_size, shuffle=True, collate_fn=batch_collater)"
   ]
  },
  {
   "cell_type": "code",
   "execution_count": 15,
   "metadata": {},
   "outputs": [
    {
     "name": "stdout",
     "output_type": "stream",
     "text": [
      "torch.Size([20, 20, 168]) torch.Size([20])\n",
      "torch.Size([20, 20, 168]) torch.Size([20])\n"
     ]
    }
   ],
   "source": [
    "for xb, yb in training_loader:\n",
    "    print(xb.shape, yb.shape)\n",
    "    break\n",
    "\n",
    "for xb, yb in testing_loader:\n",
    "    print(xb.shape, yb.shape)\n",
    "    break"
   ]
  },
  {
   "cell_type": "markdown",
   "metadata": {},
   "source": [
    "# Model Definition "
   ]
  },
  {
   "cell_type": "code",
   "execution_count": 16,
   "metadata": {},
   "outputs": [],
   "source": [
    "class SyncRNN(nn.Module):\n",
    "    \n",
    "    def __init__(self, params_model):\n",
    "        \n",
    "        super(SyncRNN, self).__init__()\n",
    "        \n",
    "        # Import Model Parameters\n",
    "        num_classes = params_model[\"num_classes\"]\n",
    "        dr_rate = params_model[\"dr_rate\"] # dropout rate\n",
    "        rnn_hidden_size = params_model[\"rnn_hidden_size\"]\n",
    "        rnn_num_layers = params_model[\"rnn_num_layers\"]\n",
    "        num_features = 168\n",
    "        \n",
    "        # Define Model Structure\n",
    "        self.dropout = nn.Dropout(dr_rate) # - do we need this?\n",
    "        self.rnn = nn.LSTM(num_features, rnn_hidden_size, rnn_num_layers)\n",
    "        self.fc1 = nn.Linear(rnn_hidden_size, num_classes)\n",
    "        \n",
    "    def forward(self, x):\n",
    "        \n",
    "        # batch count, frame count, feature size\n",
    "        batch_count, frame_count, feature_size = x.shape\n",
    "        frame_idx = 0\n",
    "        \n",
    "        # Reshape the frame\n",
    "        shaped_frame = x[:, frame_idx].view(batch_count, 1, feature_size)\n",
    "        \n",
    "        # Feed the first frame into the rnn\n",
    "        output, (hn, cn) = self.rnn(shaped_frame)\n",
    "        \n",
    "        # Feed the rest of the frames \n",
    "        for frame_idx in range(1, frame_count):\n",
    "            shaped_frame = x[:, frame_idx].view(batch_count, 1, feature_size)\n",
    "            output, (hn, cn) = self.rnn(shaped_frame, (hn, cn))\n",
    "        \n",
    "        #output = self.dropout(output[:,-1])\n",
    "        output = self.fc1(output)\n",
    "        return output\n",
    "        "
   ]
  },
  {
   "cell_type": "code",
   "execution_count": 17,
   "metadata": {},
   "outputs": [],
   "source": [
    "# RNN Model Parameters\n",
    "model_params = {\n",
    "    \"num_classes\": 20,\n",
    "    \"dr_rate\": 0.1,\n",
    "    \"rnn_num_layers\": 2,\n",
    "    \"rnn_hidden_size\": 200,\n",
    "}\n",
    "model = SyncRNN(model_params)"
   ]
  },
  {
   "cell_type": "code",
   "execution_count": 18,
   "metadata": {},
   "outputs": [
    {
     "name": "stdout",
     "output_type": "stream",
     "text": [
      "torch.Size([1, 1, 20])\n"
     ]
    }
   ],
   "source": [
    "# Test Model with dummy input\n",
    "with torch.no_grad():\n",
    "    x = torch.zeros(1, 20, 168)\n",
    "    y = model(x)\n",
    "    print(y.shape) # should be [1,20]"
   ]
  },
  {
   "cell_type": "code",
   "execution_count": 19,
   "metadata": {},
   "outputs": [
    {
     "name": "stdout",
     "output_type": "stream",
     "text": [
      "cuda:0\n"
     ]
    },
    {
     "data": {
      "text/plain": [
       "SyncRNN(\n",
       "  (dropout): Dropout(p=0.1, inplace=False)\n",
       "  (rnn): LSTM(168, 200, num_layers=2)\n",
       "  (fc1): Linear(in_features=200, out_features=20, bias=True)\n",
       ")"
      ]
     },
     "execution_count": 19,
     "metadata": {},
     "output_type": "execute_result"
    }
   ],
   "source": [
    "device = torch.device(\"cuda:0\" if torch.cuda.is_available() else \"cpu\")\n",
    "print(device)\n",
    "\n",
    "# Print Model Params\n",
    "model = model.to(device)\n",
    "model"
   ]
  },
  {
   "cell_type": "markdown",
   "metadata": {},
   "source": [
    "# Model Training  \n",
    "\n",
    "Define loss function and optimizer to train the model"
   ]
  },
  {
   "cell_type": "code",
   "execution_count": 20,
   "metadata": {},
   "outputs": [],
   "source": [
    "# Define Loss Function\n",
    "loss_fn = nn.CrossEntropyLoss(reduction=\"sum\")"
   ]
  },
  {
   "cell_type": "code",
   "execution_count": 21,
   "metadata": {},
   "outputs": [],
   "source": [
    "# Define Optimizer (Adam)\n",
    "optimizer = optim.Adam(model.parameters(), lr = 3e-3) #3e-5 # 3e-3"
   ]
  },
  {
   "cell_type": "code",
   "execution_count": 22,
   "metadata": {},
   "outputs": [],
   "source": [
    "# Define LR Scheduler\n",
    "lr_scheduler = ReduceLROnPlateau(optimizer, mode='min', factor=0.5, patience = 5, verbose=1)\n",
    "os.makedirs(\"./models\", exist_ok=True)"
   ]
  },
  {
   "cell_type": "code",
   "execution_count": 23,
   "metadata": {},
   "outputs": [],
   "source": [
    "# Define Training Parameters - tweak this\n",
    "train_params = {\n",
    "    \"num_epochs\": 20,\n",
    "    \"optimizer\": optimizer,\n",
    "    \"loss_fn\": loss_fn,\n",
    "    \"training_loader\": training_loader,\n",
    "    \"testing_loader\": testing_loader,\n",
    "    \"lr_scheduler\": lr_scheduler,\n",
    "    \"weights_path\": \"./models/weights.pt\",\n",
    "}"
   ]
  },
  {
   "cell_type": "code",
   "execution_count": 24,
   "metadata": {
    "scrolled": true
   },
   "outputs": [
    {
     "name": "stdout",
     "output_type": "stream",
     "text": [
      "Epoch 0/19, current_lr=0.003\n"
     ]
    },
    {
     "data": {
      "application/vnd.jupyter.widget-view+json": {
       "model_id": "93cd9b69de07475abe0722d159be9dce",
       "version_major": 2,
       "version_minor": 0
      },
      "text/plain": [
       "HBox(children=(FloatProgress(value=0.0, max=3.0), HTML(value='')))"
      ]
     },
     "metadata": {},
     "output_type": "display_data"
    },
    {
     "name": "stdout",
     "output_type": "stream",
     "text": [
      "\n"
     ]
    },
    {
     "data": {
      "application/vnd.jupyter.widget-view+json": {
       "model_id": "be9e21823810448ebae9f4b877734682",
       "version_major": 2,
       "version_minor": 0
      },
      "text/plain": [
       "HBox(children=(FloatProgress(value=0.0, max=2.0), HTML(value='')))"
      ]
     },
     "metadata": {},
     "output_type": "display_data"
    },
    {
     "name": "stdout",
     "output_type": "stream",
     "text": [
      "\n",
      "Saved best model weights\n",
      "Train Loss: 3.056348, Dev Loss: 2.984523, Accuracy: 7.69\n",
      "----------\n",
      "Epoch 1/19, current_lr=0.003\n"
     ]
    },
    {
     "data": {
      "application/vnd.jupyter.widget-view+json": {
       "model_id": "9547822ac3874f3ea8924312d4b8ba4c",
       "version_major": 2,
       "version_minor": 0
      },
      "text/plain": [
       "HBox(children=(FloatProgress(value=0.0, max=3.0), HTML(value='')))"
      ]
     },
     "metadata": {},
     "output_type": "display_data"
    },
    {
     "name": "stdout",
     "output_type": "stream",
     "text": [
      "\n"
     ]
    },
    {
     "data": {
      "application/vnd.jupyter.widget-view+json": {
       "model_id": "5c8f7c4e617645519be9118ed2cdb300",
       "version_major": 2,
       "version_minor": 0
      },
      "text/plain": [
       "HBox(children=(FloatProgress(value=0.0, max=2.0), HTML(value='')))"
      ]
     },
     "metadata": {},
     "output_type": "display_data"
    },
    {
     "name": "stdout",
     "output_type": "stream",
     "text": [
      "\n",
      "Saved best model weights\n",
      "Train Loss: 3.012006, Dev Loss: 2.982533, Accuracy: 3.85\n",
      "----------\n",
      "Epoch 2/19, current_lr=0.003\n"
     ]
    },
    {
     "data": {
      "application/vnd.jupyter.widget-view+json": {
       "model_id": "b463abbf131f4ab195dfdabe25c3d73c",
       "version_major": 2,
       "version_minor": 0
      },
      "text/plain": [
       "HBox(children=(FloatProgress(value=0.0, max=3.0), HTML(value='')))"
      ]
     },
     "metadata": {},
     "output_type": "display_data"
    },
    {
     "name": "stdout",
     "output_type": "stream",
     "text": [
      "\n"
     ]
    },
    {
     "data": {
      "application/vnd.jupyter.widget-view+json": {
       "model_id": "ea00e7eb353744fc87f7f155878d8411",
       "version_major": 2,
       "version_minor": 0
      },
      "text/plain": [
       "HBox(children=(FloatProgress(value=0.0, max=2.0), HTML(value='')))"
      ]
     },
     "metadata": {},
     "output_type": "display_data"
    },
    {
     "name": "stdout",
     "output_type": "stream",
     "text": [
      "\n",
      "Train Loss: 2.974848, Dev Loss: 2.999580, Accuracy: 7.69\n",
      "----------\n",
      "Epoch 3/19, current_lr=0.003\n"
     ]
    },
    {
     "data": {
      "application/vnd.jupyter.widget-view+json": {
       "model_id": "d1e16d2e4ed74a0c9d3502a2f82919f9",
       "version_major": 2,
       "version_minor": 0
      },
      "text/plain": [
       "HBox(children=(FloatProgress(value=0.0, max=3.0), HTML(value='')))"
      ]
     },
     "metadata": {},
     "output_type": "display_data"
    },
    {
     "name": "stdout",
     "output_type": "stream",
     "text": [
      "\n"
     ]
    },
    {
     "data": {
      "application/vnd.jupyter.widget-view+json": {
       "model_id": "5ef6feb329d64277af5acbcbc4e1667b",
       "version_major": 2,
       "version_minor": 0
      },
      "text/plain": [
       "HBox(children=(FloatProgress(value=0.0, max=2.0), HTML(value='')))"
      ]
     },
     "metadata": {},
     "output_type": "display_data"
    },
    {
     "name": "stdout",
     "output_type": "stream",
     "text": [
      "\n",
      "Train Loss: 2.946735, Dev Loss: 2.997999, Accuracy: 7.69\n",
      "----------\n",
      "Epoch 4/19, current_lr=0.003\n"
     ]
    },
    {
     "data": {
      "application/vnd.jupyter.widget-view+json": {
       "model_id": "33a80c2002124763b34d73ccfb3e4dc8",
       "version_major": 2,
       "version_minor": 0
      },
      "text/plain": [
       "HBox(children=(FloatProgress(value=0.0, max=3.0), HTML(value='')))"
      ]
     },
     "metadata": {},
     "output_type": "display_data"
    },
    {
     "name": "stdout",
     "output_type": "stream",
     "text": [
      "\n"
     ]
    },
    {
     "data": {
      "application/vnd.jupyter.widget-view+json": {
       "model_id": "3adcad198d6946308e532808ca0418d9",
       "version_major": 2,
       "version_minor": 0
      },
      "text/plain": [
       "HBox(children=(FloatProgress(value=0.0, max=2.0), HTML(value='')))"
      ]
     },
     "metadata": {},
     "output_type": "display_data"
    },
    {
     "name": "stdout",
     "output_type": "stream",
     "text": [
      "\n",
      "Train Loss: 2.944391, Dev Loss: 2.997502, Accuracy: 7.69\n",
      "----------\n",
      "Epoch 5/19, current_lr=0.003\n"
     ]
    },
    {
     "data": {
      "application/vnd.jupyter.widget-view+json": {
       "model_id": "21ce50fcc0344c8d8c9e5ca0c8faa4ee",
       "version_major": 2,
       "version_minor": 0
      },
      "text/plain": [
       "HBox(children=(FloatProgress(value=0.0, max=3.0), HTML(value='')))"
      ]
     },
     "metadata": {},
     "output_type": "display_data"
    },
    {
     "name": "stdout",
     "output_type": "stream",
     "text": [
      "\n"
     ]
    },
    {
     "data": {
      "application/vnd.jupyter.widget-view+json": {
       "model_id": "14f64d0bb8ef439e8f191c6741880cf0",
       "version_major": 2,
       "version_minor": 0
      },
      "text/plain": [
       "HBox(children=(FloatProgress(value=0.0, max=2.0), HTML(value='')))"
      ]
     },
     "metadata": {},
     "output_type": "display_data"
    },
    {
     "name": "stdout",
     "output_type": "stream",
     "text": [
      "\n",
      "Train Loss: 2.936156, Dev Loss: 3.001898, Accuracy: 7.69\n",
      "----------\n",
      "Epoch 6/19, current_lr=0.003\n"
     ]
    },
    {
     "data": {
      "application/vnd.jupyter.widget-view+json": {
       "model_id": "803172d7c4c24c25b70868f561268a63",
       "version_major": 2,
       "version_minor": 0
      },
      "text/plain": [
       "HBox(children=(FloatProgress(value=0.0, max=3.0), HTML(value='')))"
      ]
     },
     "metadata": {},
     "output_type": "display_data"
    },
    {
     "name": "stdout",
     "output_type": "stream",
     "text": [
      "\n"
     ]
    },
    {
     "data": {
      "application/vnd.jupyter.widget-view+json": {
       "model_id": "9df9c8c8be1f4d70962a02e634806332",
       "version_major": 2,
       "version_minor": 0
      },
      "text/plain": [
       "HBox(children=(FloatProgress(value=0.0, max=2.0), HTML(value='')))"
      ]
     },
     "metadata": {},
     "output_type": "display_data"
    },
    {
     "name": "stdout",
     "output_type": "stream",
     "text": [
      "\n",
      "Train Loss: 2.930036, Dev Loss: 3.005918, Accuracy: 7.69\n",
      "----------\n",
      "Epoch 7/19, current_lr=0.003\n"
     ]
    },
    {
     "data": {
      "application/vnd.jupyter.widget-view+json": {
       "model_id": "03152eb0c15a40d7ae03630da336dcdf",
       "version_major": 2,
       "version_minor": 0
      },
      "text/plain": [
       "HBox(children=(FloatProgress(value=0.0, max=3.0), HTML(value='')))"
      ]
     },
     "metadata": {},
     "output_type": "display_data"
    },
    {
     "name": "stdout",
     "output_type": "stream",
     "text": [
      "\n"
     ]
    },
    {
     "data": {
      "application/vnd.jupyter.widget-view+json": {
       "model_id": "78557e8a029f442c920048b243194dfe",
       "version_major": 2,
       "version_minor": 0
      },
      "text/plain": [
       "HBox(children=(FloatProgress(value=0.0, max=2.0), HTML(value='')))"
      ]
     },
     "metadata": {},
     "output_type": "display_data"
    },
    {
     "name": "stdout",
     "output_type": "stream",
     "text": [
      "\n",
      "Epoch     8: reducing learning rate of group 0 to 1.5000e-03.\n",
      "Loading best model weights\n",
      "Train Loss: 2.914780, Dev Loss: 3.016798, Accuracy: 7.69\n",
      "----------\n",
      "Epoch 8/19, current_lr=0.0015\n"
     ]
    },
    {
     "data": {
      "application/vnd.jupyter.widget-view+json": {
       "model_id": "6271c23681dc4ee4badab0c8f87c254e",
       "version_major": 2,
       "version_minor": 0
      },
      "text/plain": [
       "HBox(children=(FloatProgress(value=0.0, max=3.0), HTML(value='')))"
      ]
     },
     "metadata": {},
     "output_type": "display_data"
    },
    {
     "name": "stdout",
     "output_type": "stream",
     "text": [
      "\n"
     ]
    },
    {
     "data": {
      "application/vnd.jupyter.widget-view+json": {
       "model_id": "2e267d53894a442685625de73f89de6b",
       "version_major": 2,
       "version_minor": 0
      },
      "text/plain": [
       "HBox(children=(FloatProgress(value=0.0, max=2.0), HTML(value='')))"
      ]
     },
     "metadata": {},
     "output_type": "display_data"
    },
    {
     "name": "stdout",
     "output_type": "stream",
     "text": [
      "\n",
      "Train Loss: 2.958349, Dev Loss: 2.984572, Accuracy: 7.69\n",
      "----------\n",
      "Epoch 9/19, current_lr=0.0015\n"
     ]
    },
    {
     "data": {
      "application/vnd.jupyter.widget-view+json": {
       "model_id": "8f04024b93934a6e8d6d11247bdce2c7",
       "version_major": 2,
       "version_minor": 0
      },
      "text/plain": [
       "HBox(children=(FloatProgress(value=0.0, max=3.0), HTML(value='')))"
      ]
     },
     "metadata": {},
     "output_type": "display_data"
    },
    {
     "name": "stdout",
     "output_type": "stream",
     "text": [
      "\n"
     ]
    },
    {
     "data": {
      "application/vnd.jupyter.widget-view+json": {
       "model_id": "5eb4f41fac4447a3a8ee684c51c59d21",
       "version_major": 2,
       "version_minor": 0
      },
      "text/plain": [
       "HBox(children=(FloatProgress(value=0.0, max=2.0), HTML(value='')))"
      ]
     },
     "metadata": {},
     "output_type": "display_data"
    },
    {
     "name": "stdout",
     "output_type": "stream",
     "text": [
      "\n",
      "Train Loss: 2.947662, Dev Loss: 2.986463, Accuracy: 7.69\n",
      "----------\n",
      "Epoch 10/19, current_lr=0.0015\n"
     ]
    },
    {
     "data": {
      "application/vnd.jupyter.widget-view+json": {
       "model_id": "26c5697421bf4b30869c23ed97dc8457",
       "version_major": 2,
       "version_minor": 0
      },
      "text/plain": [
       "HBox(children=(FloatProgress(value=0.0, max=3.0), HTML(value='')))"
      ]
     },
     "metadata": {},
     "output_type": "display_data"
    },
    {
     "name": "stdout",
     "output_type": "stream",
     "text": [
      "\n"
     ]
    },
    {
     "data": {
      "application/vnd.jupyter.widget-view+json": {
       "model_id": "1b8280cfc40c4acbbb18faaea6209ceb",
       "version_major": 2,
       "version_minor": 0
      },
      "text/plain": [
       "HBox(children=(FloatProgress(value=0.0, max=2.0), HTML(value='')))"
      ]
     },
     "metadata": {},
     "output_type": "display_data"
    },
    {
     "name": "stdout",
     "output_type": "stream",
     "text": [
      "\n",
      "Train Loss: 2.938230, Dev Loss: 2.988037, Accuracy: 7.69\n",
      "----------\n",
      "Epoch 11/19, current_lr=0.0015\n"
     ]
    },
    {
     "data": {
      "application/vnd.jupyter.widget-view+json": {
       "model_id": "79fa7f05c054437d94c1aa3fad29984c",
       "version_major": 2,
       "version_minor": 0
      },
      "text/plain": [
       "HBox(children=(FloatProgress(value=0.0, max=3.0), HTML(value='')))"
      ]
     },
     "metadata": {},
     "output_type": "display_data"
    },
    {
     "name": "stdout",
     "output_type": "stream",
     "text": [
      "\n"
     ]
    },
    {
     "data": {
      "application/vnd.jupyter.widget-view+json": {
       "model_id": "1329e8d6650343e692f91202c90e540a",
       "version_major": 2,
       "version_minor": 0
      },
      "text/plain": [
       "HBox(children=(FloatProgress(value=0.0, max=2.0), HTML(value='')))"
      ]
     },
     "metadata": {},
     "output_type": "display_data"
    },
    {
     "name": "stdout",
     "output_type": "stream",
     "text": [
      "\n",
      "Train Loss: 2.928185, Dev Loss: 3.007450, Accuracy: 7.69\n",
      "----------\n",
      "Epoch 12/19, current_lr=0.0015\n"
     ]
    },
    {
     "data": {
      "application/vnd.jupyter.widget-view+json": {
       "model_id": "9756d88eaaa840d2a8b8aaa1857cbd50",
       "version_major": 2,
       "version_minor": 0
      },
      "text/plain": [
       "HBox(children=(FloatProgress(value=0.0, max=3.0), HTML(value='')))"
      ]
     },
     "metadata": {},
     "output_type": "display_data"
    },
    {
     "name": "stdout",
     "output_type": "stream",
     "text": [
      "\n"
     ]
    },
    {
     "data": {
      "application/vnd.jupyter.widget-view+json": {
       "model_id": "c1ee7ae1b46a4b30b24ff467e8f2dc47",
       "version_major": 2,
       "version_minor": 0
      },
      "text/plain": [
       "HBox(children=(FloatProgress(value=0.0, max=2.0), HTML(value='')))"
      ]
     },
     "metadata": {},
     "output_type": "display_data"
    },
    {
     "name": "stdout",
     "output_type": "stream",
     "text": [
      "\n",
      "Train Loss: 2.916117, Dev Loss: 3.006608, Accuracy: 7.69\n",
      "----------\n",
      "Epoch 13/19, current_lr=0.0015\n"
     ]
    },
    {
     "data": {
      "application/vnd.jupyter.widget-view+json": {
       "model_id": "e7b9f6f90f2f4334b3e5553e4fddb959",
       "version_major": 2,
       "version_minor": 0
      },
      "text/plain": [
       "HBox(children=(FloatProgress(value=0.0, max=3.0), HTML(value='')))"
      ]
     },
     "metadata": {},
     "output_type": "display_data"
    },
    {
     "name": "stdout",
     "output_type": "stream",
     "text": [
      "\n"
     ]
    },
    {
     "data": {
      "application/vnd.jupyter.widget-view+json": {
       "model_id": "ef36e849bc834541b77e343d806da370",
       "version_major": 2,
       "version_minor": 0
      },
      "text/plain": [
       "HBox(children=(FloatProgress(value=0.0, max=2.0), HTML(value='')))"
      ]
     },
     "metadata": {},
     "output_type": "display_data"
    },
    {
     "name": "stdout",
     "output_type": "stream",
     "text": [
      "\n",
      "Epoch    14: reducing learning rate of group 0 to 7.5000e-04.\n",
      "Loading best model weights\n",
      "Train Loss: 2.908671, Dev Loss: 3.013815, Accuracy: 7.69\n",
      "----------\n",
      "Epoch 14/19, current_lr=0.00075\n"
     ]
    },
    {
     "data": {
      "application/vnd.jupyter.widget-view+json": {
       "model_id": "86d607a646a84c4cbe399736abc06cc9",
       "version_major": 2,
       "version_minor": 0
      },
      "text/plain": [
       "HBox(children=(FloatProgress(value=0.0, max=3.0), HTML(value='')))"
      ]
     },
     "metadata": {},
     "output_type": "display_data"
    },
    {
     "name": "stdout",
     "output_type": "stream",
     "text": [
      "\n"
     ]
    },
    {
     "data": {
      "application/vnd.jupyter.widget-view+json": {
       "model_id": "8a9490efdcab459b80ef712381328fe4",
       "version_major": 2,
       "version_minor": 0
      },
      "text/plain": [
       "HBox(children=(FloatProgress(value=0.0, max=2.0), HTML(value='')))"
      ]
     },
     "metadata": {},
     "output_type": "display_data"
    },
    {
     "name": "stdout",
     "output_type": "stream",
     "text": [
      "\n",
      "Saved best model weights\n",
      "Train Loss: 2.955172, Dev Loss: 2.981257, Accuracy: 7.69\n",
      "----------\n",
      "Epoch 15/19, current_lr=0.00075\n"
     ]
    },
    {
     "data": {
      "application/vnd.jupyter.widget-view+json": {
       "model_id": "cbe473212f834acb98a8dcc8429703b6",
       "version_major": 2,
       "version_minor": 0
      },
      "text/plain": [
       "HBox(children=(FloatProgress(value=0.0, max=3.0), HTML(value='')))"
      ]
     },
     "metadata": {},
     "output_type": "display_data"
    },
    {
     "name": "stdout",
     "output_type": "stream",
     "text": [
      "\n"
     ]
    },
    {
     "data": {
      "application/vnd.jupyter.widget-view+json": {
       "model_id": "cdb724142a274fe5b812e1ed6e0dd928",
       "version_major": 2,
       "version_minor": 0
      },
      "text/plain": [
       "HBox(children=(FloatProgress(value=0.0, max=2.0), HTML(value='')))"
      ]
     },
     "metadata": {},
     "output_type": "display_data"
    },
    {
     "name": "stdout",
     "output_type": "stream",
     "text": [
      "\n",
      "Train Loss: 2.944595, Dev Loss: 2.985616, Accuracy: 7.69\n",
      "----------\n",
      "Epoch 16/19, current_lr=0.00075\n"
     ]
    },
    {
     "data": {
      "application/vnd.jupyter.widget-view+json": {
       "model_id": "b1e8957925ef4e4fbe6fe5b2bd12d1f6",
       "version_major": 2,
       "version_minor": 0
      },
      "text/plain": [
       "HBox(children=(FloatProgress(value=0.0, max=3.0), HTML(value='')))"
      ]
     },
     "metadata": {},
     "output_type": "display_data"
    },
    {
     "name": "stdout",
     "output_type": "stream",
     "text": [
      "\n"
     ]
    },
    {
     "data": {
      "application/vnd.jupyter.widget-view+json": {
       "model_id": "1398b5403ae84377a08f92f14920b8c1",
       "version_major": 2,
       "version_minor": 0
      },
      "text/plain": [
       "HBox(children=(FloatProgress(value=0.0, max=2.0), HTML(value='')))"
      ]
     },
     "metadata": {},
     "output_type": "display_data"
    },
    {
     "name": "stdout",
     "output_type": "stream",
     "text": [
      "\n",
      "Train Loss: 2.936513, Dev Loss: 2.983241, Accuracy: 7.69\n",
      "----------\n",
      "Epoch 17/19, current_lr=0.00075\n"
     ]
    },
    {
     "data": {
      "application/vnd.jupyter.widget-view+json": {
       "model_id": "220dfdf50909465e84eaf2093303c73a",
       "version_major": 2,
       "version_minor": 0
      },
      "text/plain": [
       "HBox(children=(FloatProgress(value=0.0, max=3.0), HTML(value='')))"
      ]
     },
     "metadata": {},
     "output_type": "display_data"
    },
    {
     "name": "stdout",
     "output_type": "stream",
     "text": [
      "\n"
     ]
    },
    {
     "data": {
      "application/vnd.jupyter.widget-view+json": {
       "model_id": "ee771eb7813147df883536a9121193fe",
       "version_major": 2,
       "version_minor": 0
      },
      "text/plain": [
       "HBox(children=(FloatProgress(value=0.0, max=2.0), HTML(value='')))"
      ]
     },
     "metadata": {},
     "output_type": "display_data"
    },
    {
     "name": "stdout",
     "output_type": "stream",
     "text": [
      "\n",
      "Train Loss: 2.937362, Dev Loss: 2.992807, Accuracy: 7.69\n",
      "----------\n",
      "Epoch 18/19, current_lr=0.00075\n"
     ]
    },
    {
     "data": {
      "application/vnd.jupyter.widget-view+json": {
       "model_id": "c3a9ff10ba1249ed958202b0625add5f",
       "version_major": 2,
       "version_minor": 0
      },
      "text/plain": [
       "HBox(children=(FloatProgress(value=0.0, max=3.0), HTML(value='')))"
      ]
     },
     "metadata": {},
     "output_type": "display_data"
    },
    {
     "name": "stdout",
     "output_type": "stream",
     "text": [
      "\n"
     ]
    },
    {
     "data": {
      "application/vnd.jupyter.widget-view+json": {
       "model_id": "9e7fb3f40f7a4ef9abfe3c9f1a1d43cb",
       "version_major": 2,
       "version_minor": 0
      },
      "text/plain": [
       "HBox(children=(FloatProgress(value=0.0, max=2.0), HTML(value='')))"
      ]
     },
     "metadata": {},
     "output_type": "display_data"
    },
    {
     "name": "stdout",
     "output_type": "stream",
     "text": [
      "\n",
      "Train Loss: 2.928722, Dev Loss: 3.002746, Accuracy: 7.69\n",
      "----------\n",
      "Epoch 19/19, current_lr=0.00075\n"
     ]
    },
    {
     "data": {
      "application/vnd.jupyter.widget-view+json": {
       "model_id": "5f3683c184e54d3180430f937a881f78",
       "version_major": 2,
       "version_minor": 0
      },
      "text/plain": [
       "HBox(children=(FloatProgress(value=0.0, max=3.0), HTML(value='')))"
      ]
     },
     "metadata": {},
     "output_type": "display_data"
    },
    {
     "name": "stdout",
     "output_type": "stream",
     "text": [
      "\n"
     ]
    },
    {
     "data": {
      "application/vnd.jupyter.widget-view+json": {
       "model_id": "853bf6f35660444c9a612d0de7fa8f35",
       "version_major": 2,
       "version_minor": 0
      },
      "text/plain": [
       "HBox(children=(FloatProgress(value=0.0, max=2.0), HTML(value='')))"
      ]
     },
     "metadata": {},
     "output_type": "display_data"
    },
    {
     "name": "stdout",
     "output_type": "stream",
     "text": [
      "\n",
      "Train Loss: 2.915515, Dev Loss: 3.002674, Accuracy: 7.69\n",
      "----------\n"
     ]
    }
   ],
   "source": [
    "trained_model, loss_hist, metric_hist = trainutils.train_model(model, train_params)"
   ]
  },
  {
   "cell_type": "code",
   "execution_count": 25,
   "metadata": {},
   "outputs": [
    {
     "data": {
      "image/png": "[encoded data removed]",
      "text/plain": [
       "<Figure size 432x288 with 1 Axes>"
      ]
     },
     "metadata": {
      "needs_background": "light"
     },
     "output_type": "display_data"
    },
    {
     "data": {
      "image/png": "[encoded data removed]",
      "text/plain": [
       "<Figure size 432x288 with 1 Axes>"
      ]
     },
     "metadata": {
      "needs_background": "light"
     },
     "output_type": "display_data"
    }
   ],
   "source": [
    "trainutils.plot_loss(loss_hist, metric_hist)"
   ]
  },
  {
   "cell_type": "code",
   "execution_count": null,
   "metadata": {},
   "outputs": [],
   "source": []
  }
 ],
 "metadata": {
  "kernelspec": {
   "display_name": "Python 3",
   "language": "python",
   "name": "python3"
  },
  "language_info": {
   "codemirror_mode": {
    "name": "ipython",
    "version": 3
   },
   "file_extension": ".py",
   "mimetype": "text/x-python",
   "name": "python",
   "nbconvert_exporter": "python",
   "pygments_lexer": "ipython3",
   "version": "3.7.6"
  }
 },
 "nbformat": 4,
 "nbformat_minor": 2
}
