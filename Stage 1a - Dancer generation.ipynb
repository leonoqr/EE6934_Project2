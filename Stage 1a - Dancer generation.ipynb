{
 "cells": [
  {
   "cell_type": "code",
   "execution_count": 1,
   "metadata": {},
   "outputs": [],
   "source": [
    "from syncutils import *\n",
    "from pytorch_openpose.src.body import Body\n",
    "from tqdm import tqdm\n",
    "\n",
    "body_estimation = Body('pytorch_openpose/model/body_pose_model.pth')"
   ]
  },
  {
   "cell_type": "code",
   "execution_count": 2,
   "metadata": {},
   "outputs": [
    {
     "name": "stderr",
     "output_type": "stream",
     "text": [
      " 49%|███████████████████████████████████████▉                                         | 71/144 [05:15<21:23, 17.58s/it]"
     ]
    },
    {
     "name": "stdout",
     "output_type": "stream",
     "text": [
      "A mismatch between unmatched and uninitialized body instanses in frame 1 occured\n",
      "A mismatch between unmatched and uninitialized body instanses in frame 2 occured\n",
      "A mismatch between unmatched and uninitialized body instanses in frame 3 occured\n",
      "A mismatch between unmatched and uninitialized body instanses in frame 4 occured\n",
      "A mismatch between unmatched and uninitialized body instanses in frame 5 occured\n",
      "A mismatch between unmatched and uninitialized body instanses in frame 6 occured\n",
      "A mismatch between unmatched and uninitialized body instanses in frame 7 occured\n",
      "A mismatch between unmatched and uninitialized body instanses in frame 8 occured\n",
      "A mismatch between unmatched and uninitialized body instanses in frame 9 occured\n",
      "A mismatch between unmatched and uninitialized body instanses in frame 10 occured\n",
      "A mismatch between unmatched and uninitialized body instanses in frame 11 occured\n",
      "A mismatch between unmatched and uninitialized body instanses in frame 12 occured\n",
      "A mismatch between unmatched and uninitialized body instanses in frame 13 occured\n",
      "A mismatch between unmatched and uninitialized body instanses in frame 14 occured\n",
      "A mismatch between unmatched and uninitialized body instanses in frame 15 occured\n",
      "A mismatch between unmatched and uninitialized body instanses in frame 16 occured\n",
      "A mismatch between unmatched and uninitialized body instanses in frame 17 occured\n",
      "A mismatch between unmatched and uninitialized body instanses in frame 18 occured\n",
      "A mismatch between unmatched and uninitialized body instanses in frame 19 occured\n",
      "A mismatch between unmatched and uninitialized body instanses in frame 20 occured\n",
      "A mismatch between unmatched and uninitialized body instanses in frame 21 occured\n",
      "A mismatch between unmatched and uninitialized body instanses in frame 22 occured\n",
      "A mismatch between unmatched and uninitialized body instanses in frame 23 occured\n",
      "A mismatch between unmatched and uninitialized body instanses in frame 24 occured\n",
      "A mismatch between unmatched and uninitialized body instanses in frame 25 occured\n",
      "A mismatch between unmatched and uninitialized body instanses in frame 26 occured\n",
      "A mismatch between unmatched and uninitialized body instanses in frame 27 occured\n",
      "A mismatch between unmatched and uninitialized body instanses in frame 28 occured\n",
      "A mismatch between unmatched and uninitialized body instanses in frame 29 occured\n",
      "A mismatch between unmatched and uninitialized body instanses in frame 30 occured\n",
      "A mismatch between unmatched and uninitialized body instanses in frame 31 occured\n",
      "A mismatch between unmatched and uninitialized body instanses in frame 32 occured\n"
     ]
    },
    {
     "name": "stderr",
     "output_type": "stream",
     "text": [
      "100%|████████████████████████████████████████████████████████████████████████████████| 144/144 [32:40<00:00, 13.61s/it]\n"
     ]
    }
   ],
   "source": [
    "video_folder = 'video1'\n",
    "\n",
    "base_path = 'data/videos/' + video_folder\n",
    "\n",
    "file_names = os.listdir(base_path)\n",
    "dt = 0.12\n",
    "\n",
    "for k in tqdm(range(len(file_names))):\n",
    "\n",
    "    json_file_name = 'sync_measure_data/dancers/' + video_folder + '/' + file_names[k].split('.')[0] + '.json'\n",
    "\n",
    "    if not os.path.exists(json_file_name):\n",
    "\n",
    "        try:\n",
    "            dancers = create_dancers_from_video(body_estimation, base_path + '/' + file_names[k], dt)\n",
    "            save_dancers(dancers, json_file_name)\n",
    "        except:\n",
    "            pass\n"
   ]
  },
  {
   "cell_type": "code",
   "execution_count": null,
   "metadata": {},
   "outputs": [],
   "source": []
  }
 ],
 "metadata": {
  "kernelspec": {
   "display_name": "Python 3",
   "language": "python",
   "name": "python3"
  },
  "language_info": {
   "codemirror_mode": {
    "name": "ipython",
    "version": 3
   },
   "file_extension": ".py",
   "mimetype": "text/x-python",
   "name": "python",
   "nbconvert_exporter": "python",
   "pygments_lexer": "ipython3",
   "version": "3.7.6"
  }
 },
 "nbformat": 4,
 "nbformat_minor": 4
}
