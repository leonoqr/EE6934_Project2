{
 "cells": [
  {
   "cell_type": "code",
   "execution_count": 1,
   "metadata": {},
   "outputs": [],
   "source": [
    "import matplotlib.pyplot as plt\n",
    "from syncutils import *\n",
    "import os\n",
    "\n",
    "from tqdm import tqdm"
   ]
  },
  {
   "cell_type": "code",
   "execution_count": 2,
   "metadata": {},
   "outputs": [
    {
     "name": "stdout",
     "output_type": "stream",
     "text": [
      "477\n"
     ]
    }
   ],
   "source": [
    "base_path = 'sync_measure_data/dancers/'\n",
    "\n",
    "dirs_to_visit = [base_path + 'video' + str(k+1) + '/' for k in range(4)]\n",
    "\n",
    "file_names = []\n",
    "\n",
    "for dir_path in dirs_to_visit:\n",
    "    file_names.extend(map(lambda name: dir_path + name, os.listdir(dir_path)))\n",
    "\n",
    "print(len(file_names))"
   ]
  },
  {
   "cell_type": "code",
   "execution_count": 3,
   "metadata": {},
   "outputs": [],
   "source": [
    "# extract extrema-based features from `dancers`\n",
    "#\n",
    "# arguments:\n",
    "#\n",
    "#   dt        - time interval between 2 frames, in seconds\n",
    "#   T_max     - maximum video duration, in seconds\n",
    "#   n_dancers - maximum number of dancers to extract features from\n",
    "#\n",
    "def extract_features_from_dancers(dancers, dt = 0.1, T_max = 5, n_dancers = 3):\n",
    "\n",
    "    N = math.ceil(T_max/dt) + 1    # number of `interpolated frames`\n",
    "\n",
    "    # fixing the order of limb names to be lexicographical\n",
    "    #\n",
    "    limb_names = list(body.limb_nodes.keys())\n",
    "    limb_names.sort()\n",
    "\n",
    "    n_limbs = len(limb_names)  # currently 11\n",
    "\n",
    "\n",
    "    # features[k] - features for frame k:\n",
    "    #\n",
    "    # [dancer[1..3]_limb[1..11]_extrema_presence, dancer[1..3]_limb[1..11]_extrema_value] : \n",
    "    #\n",
    "    # list length: 2*n_dancers*n_limbs = 2*3*11 = 66\n",
    "    #\n",
    "    features = np.zeros((N, 2*n_dancers*n_limbs))\n",
    "\n",
    "\n",
    "    for k in range(len(dancers)):\n",
    "\n",
    "        if k >= n_dancers:\n",
    "            break\n",
    "\n",
    "        for limb_idx, limb_name in enumerate(limb_names):\n",
    "\n",
    "            if limb_name not in dancers[k].limbs:\n",
    "                continue\n",
    "\n",
    "            f = dancers[k].limbs[limb_name]\n",
    "\n",
    "            d2f = f.derivative().derivative()\n",
    "            extrema = f.derivative().roots(extrapolate = False)\n",
    "\n",
    "            dancer_idx = 2*n_limbs*k\n",
    "            feature_idx = dancer_idx + 2*limb_idx\n",
    "\n",
    "            for t in extrema:\n",
    "\n",
    "                if t < T_max:\n",
    "\n",
    "                    n = t/dt\n",
    "\n",
    "                    frame_idx = int(n)\n",
    "                    dn = n - int(n)\n",
    "\n",
    "                    val = f(t)*np.sign(d2f(t))/math.pi\n",
    "\n",
    "                    # extremum presence\n",
    "                    features[frame_idx][feature_idx] += 1 - dn\n",
    "                    features[frame_idx + 1][feature_idx] += dn\n",
    "\n",
    "                    # extremum value\n",
    "                    features[frame_idx][feature_idx + 1] += val\n",
    "                    features[frame_idx + 1][feature_idx + 1] += val\n",
    "            #end\n",
    "        #end\n",
    "    #end\n",
    "\n",
    "    return features\n"
   ]
  },
  {
   "cell_type": "code",
   "execution_count": 5,
   "metadata": {},
   "outputs": [],
   "source": [
    "# extract extrema-based features from `dancers`\n",
    "#\n",
    "# arguments:\n",
    "#\n",
    "#   dt        - time interval between 2 frames, in seconds\n",
    "#   T_max     - maximum video duration, in seconds\n",
    "#   n_dancers - maximum number of dancers to extract features from\n",
    "#\n",
    "def extract_features_from_dancers_v1(dancers, dt = 0.1, T_max = 5, n_dancers = 3):\n",
    "\n",
    "    N = math.ceil(T_max/dt) + 1    # number of `interpolated frames`\n",
    "\n",
    "    # fixing the order of limb names to be lexicographical\n",
    "    #\n",
    "    limb_names = list(body.limb_nodes.keys())\n",
    "    limb_names.sort()\n",
    "\n",
    "    n_limbs = len(limb_names)  # currently 11\n",
    "\n",
    "\n",
    "    # features[k] - features for frame k:\n",
    "    #\n",
    "    # [dancer[1..3]_limb[1..11]_extrema_value] : \n",
    "    #\n",
    "    # list length: n_dancers*n_limbs = 3*11 = 33\n",
    "    #\n",
    "    features = np.zeros((N, n_dancers*n_limbs))\n",
    "\n",
    "\n",
    "    for k in range(len(dancers)):\n",
    "\n",
    "        if k >= n_dancers:\n",
    "            break\n",
    "\n",
    "        for limb_idx, limb_name in enumerate(limb_names):\n",
    "\n",
    "            if limb_name not in dancers[k].limbs:\n",
    "                continue\n",
    "\n",
    "            f = dancers[k].limbs[limb_name]\n",
    "\n",
    "            d2f = f.derivative().derivative()\n",
    "            extrema = f.derivative().roots(extrapolate = False)\n",
    "\n",
    "            dancer_idx = n_limbs*k\n",
    "            feature_idx = dancer_idx + limb_idx\n",
    "\n",
    "            for t in extrema:\n",
    "\n",
    "                if t < T_max:\n",
    "\n",
    "                    n = t/dt\n",
    "\n",
    "                    frame_idx = int(n)\n",
    "                    dn = n - int(n)\n",
    "\n",
    "                    val = d2f(t)/math.pi\n",
    "\n",
    "                    # extremum value\n",
    "                    features[frame_idx][feature_idx] += (1 - dn)*val\n",
    "                    features[frame_idx + 1][feature_idx] += dn*val\n",
    "            #end\n",
    "        #end\n",
    "    #end\n",
    "\n",
    "    return features\n"
   ]
  },
  {
   "cell_type": "code",
   "execution_count": 4,
   "metadata": {},
   "outputs": [
    {
     "name": "stderr",
     "output_type": "stream",
     "text": [
      "100%|████████████████████████████████████████████████████████████████████████████████| 477/477 [00:12<00:00, 37.93it/s]\n"
     ]
    }
   ],
   "source": [
    "# extracting and saving features\n",
    "\n",
    "os.makedirs('sync_measure_data/features/', exist_ok = True)\n",
    "\n",
    "for file_name in tqdm(file_names):\n",
    "\n",
    "    dancers = load_dancers(file_name)\n",
    "    features = extract_features_from_dancers(dancers, dt = 0.01)\n",
    "\n",
    "    # 'sync_measure_data/dancers/video1/seg1_1a_2.json' -> 'video1_seg1_1a_2'\n",
    "    #\n",
    "    name = '_'.join(file_name.split('/')[-2:]).split('.')[0]\n",
    "\n",
    "    np.savez('sync_measure_data/features/' + name + '.npz', features = features)\n"
   ]
  },
  {
   "cell_type": "code",
   "execution_count": 6,
   "metadata": {},
   "outputs": [
    {
     "name": "stderr",
     "output_type": "stream",
     "text": [
      "100%|████████████████████████████████████████████████████████████████████████████████| 477/477 [00:29<00:00, 16.03it/s]\n"
     ]
    }
   ],
   "source": [
    "# extracting and saving features\n",
    "\n",
    "os.makedirs('sync_measure_data/features_v1/', exist_ok = True)\n",
    "\n",
    "for file_name in tqdm(file_names):\n",
    "\n",
    "    dancers = load_dancers(file_name)\n",
    "    features = extract_features_from_dancers_v1(dancers, dt = 0.05)\n",
    "\n",
    "    # 'sync_measure_data/dancers/video1/seg1_1a_2.json' -> 'video1_seg1_1a_2'\n",
    "    #\n",
    "    name = '_'.join(file_name.split('/')[-2:]).split('.')[0]\n",
    "\n",
    "    np.savez('sync_measure_data/features_v1/' + name + '.npz', features = features)"
   ]
  },
  {
   "cell_type": "code",
   "execution_count": null,
   "metadata": {},
   "outputs": [],
   "source": []
  },
  {
   "cell_type": "code",
   "execution_count": null,
   "metadata": {},
   "outputs": [],
   "source": []
  }
 ],
 "metadata": {
  "kernelspec": {
   "display_name": "Python 3",
   "language": "python",
   "name": "python3"
  },
  "language_info": {
   "codemirror_mode": {
    "name": "ipython",
    "version": 3
   },
   "file_extension": ".py",
   "mimetype": "text/x-python",
   "name": "python",
   "nbconvert_exporter": "python",
   "pygments_lexer": "ipython3",
   "version": "3.7.6"
  }
 },
 "nbformat": 4,
 "nbformat_minor": 4
}
