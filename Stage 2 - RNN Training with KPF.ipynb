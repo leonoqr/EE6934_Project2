{
 "cells": [
  {
   "cell_type": "markdown",
   "metadata": {},
   "source": [
    "# Train LSTM network using Keypoint Features"
   ]
  },
  {
   "cell_type": "markdown",
   "metadata": {},
   "source": [
    "## Import libraries"
   ]
  },
  {
   "cell_type": "code",
   "execution_count": 3,
   "metadata": {},
   "outputs": [],
   "source": [
    "# Basic functions\n",
    "import os\n",
    "import torch\n",
    "import numpy as np\n",
    "import re\n",
    "from importlib import reload\n",
    "\n",
    "# Training/Test Set Creation - to use later\n",
    "from sklearn.model_selection import StratifiedShuffleSplit\n",
    "\n",
    "# Dataset Creation\n",
    "from collections import Counter\n",
    "from torch.utils.data import Dataset, DataLoader, Subset\n",
    "import torchvision.transforms as transforms\n",
    "from sklearn.preprocessing import MinMaxScaler\n",
    "from sklearn.preprocessing import normalize\n",
    "\n",
    "# Model Training and Definition\n",
    "from torch import nn\n",
    "from torch import optim\n",
    "from torch.optim.lr_scheduler import CosineAnnealingLR, ReduceLROnPlateau\n",
    "import trainutils\n",
    "import vidutils"
   ]
  },
  {
   "cell_type": "markdown",
   "metadata": {},
   "source": [
    "## Create Training and Test Sets"
   ]
  },
  {
   "cell_type": "markdown",
   "metadata": {},
   "source": [
    "### Define classes and preview"
   ]
  },
  {
   "cell_type": "code",
   "execution_count": 4,
   "metadata": {},
   "outputs": [
    {
     "data": {
      "text/plain": [
       "{'0-100 ms': 0,\n",
       " '101-200 ms': 1,\n",
       " '201-300 ms': 2,\n",
       " '301-400 ms': 3,\n",
       " '401-500 ms': 4,\n",
       " '501-600 ms': 5,\n",
       " '601-700 ms': 6,\n",
       " '701-800 ms': 7,\n",
       " '801-900 ms': 8,\n",
       " '901-1000 ms': 9}"
      ]
     },
     "execution_count": 4,
     "metadata": {},
     "output_type": "execute_result"
    }
   ],
   "source": [
    "# Define label dictionary - 20 classes\n",
    "syncs = [  \"0-100 ms\", \"101-200 ms\", \"201-300 ms\", \"301-400 ms\", \"401-500 ms\", \n",
    "         \"501-600 ms\", \"601-700 ms\", \"701-800 ms\", \"801-900 ms\", \"901-1000 ms\" ]\n",
    "sync_dict = {}\n",
    "\n",
    "count = 0\n",
    "for sync_val in syncs:\n",
    "    sync_dict[sync_val] = count\n",
    "    count += 1\n",
    "\n",
    "# preview dictionary\n",
    "sync_dict"
   ]
  },
  {
   "cell_type": "markdown",
   "metadata": {},
   "source": [
    "### Load training data\n",
    "Choose between using synthetic data, real data or both. \n",
    "\n",
    "Usage example: If only real data is to be used, set `real_data` to `True` and `syn_data` to `False`."
   ]
  },
  {
   "cell_type": "code",
   "execution_count": 27,
   "metadata": {},
   "outputs": [
    {
     "name": "stdout",
     "output_type": "stream",
     "text": [
      "Current Video: video3\n",
      "Current Video: video4\n",
      "Current Video: video2\n",
      "Current Video: video1\n"
     ]
    }
   ],
   "source": [
    "### --------------------------------------------\n",
    "# Choose datasets to use\n",
    "real_data = True\n",
    "syn_data = False\n",
    "### --------------------------------------------\n",
    "\n",
    "X_paths = [] # paths of segment folders\n",
    "y = [] # designated label\n",
    "\n",
    "if real_data:\n",
    "    # Specify directories\n",
    "    frame_folder = \"./data/frames\"\n",
    "    \n",
    "    # Construct X = folder names, y = the label\n",
    "    vf_list = []\n",
    "    for f in os.listdir(frame_folder):\n",
    "        if not f.startswith('.'):\n",
    "            vf_list.append(f)\n",
    "    \n",
    "    for vf_folder in vf_list:\n",
    "        # Create path to video\n",
    "        vf_path = os.path.join(frame_folder, vf_folder)\n",
    "        print(\"Current Video: \"+ vf_folder)\n",
    "\n",
    "        # Get individual segment folder\n",
    "        segfolder_list = os.listdir(vf_path)\n",
    "\n",
    "        # Check every segment folder\n",
    "        for seg_folder in segfolder_list:\n",
    "\n",
    "            if not seg_folder.startswith('.'):\n",
    "                x_path = os.path.join(vf_path, seg_folder)\n",
    "                X_paths.append(x_path + '/features.npz')\n",
    "\n",
    "                # Extract class label from folder name\n",
    "                label = int(seg_folder.split(\"_\")[2])\n",
    "                y.append(label)\n",
    "        \n",
    "if syn_data:\n",
    "    # define synthetic data directory\n",
    "    output_dir = './synthetic_data/output'\n",
    "    output_list = os.listdir(output_dir)\n",
    "\n",
    "    for output_folder in output_list:\n",
    "        if output_folder.startswith('vid'):\n",
    "            x_path = output_dir + '/' + output_folder\n",
    "            X_paths.append(x_path)\n",
    "\n",
    "            # Extract class label from folder name\n",
    "            params = re.findall(r'\\d+', output_folder)\n",
    "            label = int( (int(params[3]) - 1) / 100)\n",
    "            y.append(label)"
   ]
  },
  {
   "cell_type": "code",
   "execution_count": 28,
   "metadata": {},
   "outputs": [
    {
     "data": {
      "text/plain": [
       "Counter({3: 50, 4: 50, 6: 48, 1: 54, 5: 51, 8: 52, 2: 49, 9: 52, 0: 48, 7: 50})"
      ]
     },
     "execution_count": 28,
     "metadata": {},
     "output_type": "execute_result"
    }
   ],
   "source": [
    "# Preview Data distribution\n",
    "from collections import Counter\n",
    "Counter(y)"
   ]
  },
  {
   "cell_type": "code",
   "execution_count": 29,
   "metadata": {},
   "outputs": [
    {
     "name": "stdout",
     "output_type": "stream",
     "text": [
      "Training Set: (453,453)\n",
      "Test Set: (51,51)\n"
     ]
    }
   ],
   "source": [
    "# Split into training and test sets\n",
    "splitter = StratifiedShuffleSplit(n_splits = 2, test_size = 0.1, random_state = 0)\n",
    "train_set, test_set = next(splitter.split(X_paths, y))\n",
    "\n",
    "# Training Set\n",
    "train_X_paths = [X_paths[i] for i in train_set]\n",
    "train_ys = [y[i] for i in train_set]\n",
    "print(\"Training Set: ({0},{1})\".format(len(train_X_paths), len(train_ys)))\n",
    "\n",
    "# Test Set\n",
    "test_X_paths = [X_paths[i] for i in test_set]\n",
    "test_ys = [y[i] for i in test_set]\n",
    "print(\"Test Set: ({0},{1})\".format(len(test_X_paths), len(test_ys)))"
   ]
  },
  {
   "cell_type": "markdown",
   "metadata": {},
   "source": [
    "### Conversion to Pytorch Dataset\n",
    "Set seeds for reproducibility and produce pytorch tensor for training."
   ]
  },
  {
   "cell_type": "code",
   "execution_count": 30,
   "metadata": {},
   "outputs": [
    {
     "data": {
      "text/plain": [
       "<torch._C.Generator at 0x114878050>"
      ]
     },
     "execution_count": 30,
     "metadata": {},
     "output_type": "execute_result"
    }
   ],
   "source": [
    "# Set seeds for reproducibility\n",
    "np.random.seed(4139)\n",
    "torch.manual_seed(4139)"
   ]
  },
  {
   "cell_type": "markdown",
   "metadata": {},
   "source": [
    "Definition of dataset class and normalization function"
   ]
  },
  {
   "cell_type": "code",
   "execution_count": 31,
   "metadata": {},
   "outputs": [],
   "source": [
    "# Define Dataset Class\n",
    "class SyncDataset(Dataset):\n",
    "    \n",
    "    def __init__(self, X, y, transform=None):\n",
    "        self.transform = transform\n",
    "        self.X = X\n",
    "        self.y = y\n",
    "    \n",
    "    # Returns length\n",
    "    def __len__(self):\n",
    "        return len(self.X)\n",
    "    \n",
    "    # Returns X feature array and y value\n",
    "    def __getitem__(self, idx):\n",
    "        \n",
    "        # Load npz file\n",
    "        npz_path = self.X[idx]\n",
    "        data = np.load(npz_path)\n",
    "        num_frames = 20\n",
    "        \n",
    "        # extract features (different based on synthetic or real)\n",
    "        if npz_path.startswith('./data/'):\n",
    "            X_feat = data['feature_array']\n",
    "        else:\n",
    "            X_feat = vidutils_leon.reshape_syn_features \\\n",
    "            (data['subset_all'][:num_frames], data['candidate_all'][:num_frames])\n",
    "        \n",
    "         # apply transform\n",
    "        if self.transform:\n",
    "            X_tensor = self.transform(X_feat).squeeze().float()\n",
    "        else:\n",
    "            # Convert X to tensor\n",
    "            X_tensor = torch.from_numpy(X_feat).float()\n",
    "        \n",
    "        return X_tensor, self.y[idx] # y_tensor\n",
    "\n",
    "# Define normalization function\n",
    "class norm_with_saved(object):\n",
    "    \"\"\"\n",
    "    Rescale each feature by subtracting mean and dividing by SD over all subjects\n",
    "    IMPORTANT: Calculate saved_mean and saved_std first.\n",
    "    \"\"\"\n",
    "    def __call__(self, sample):\n",
    "        # squeeze tensor\n",
    "        sample = sample.squeeze()\n",
    "        # normalize\n",
    "        scaled_sample = (sample - saved_mean)/saved_std\n",
    "        return scaled_sample"
   ]
  },
  {
   "cell_type": "code",
   "execution_count": 32,
   "metadata": {},
   "outputs": [],
   "source": [
    "# Define Transformer \n",
    "transformer = transforms.Compose([\n",
    "    transforms.ToTensor() \n",
    "])"
   ]
  },
  {
   "cell_type": "code",
   "execution_count": 33,
   "metadata": {},
   "outputs": [
    {
     "name": "stdout",
     "output_type": "stream",
     "text": [
      "453\n",
      "51\n"
     ]
    }
   ],
   "source": [
    "# Define Training Dataset \n",
    "training_dataset = SyncDataset(X = train_X_paths, y = train_ys, transform = transformer)\n",
    "print(len(training_dataset))\n",
    "\n",
    "# Define Test Dataset\n",
    "testing_dataset = SyncDataset(X = test_X_paths, y = test_ys, transform = transformer)\n",
    "print(len(testing_dataset))"
   ]
  },
  {
   "cell_type": "code",
   "execution_count": 34,
   "metadata": {},
   "outputs": [
    {
     "data": {
      "text/plain": [
       "(torch.Size([20, 168]), 6)"
      ]
     },
     "execution_count": 34,
     "metadata": {},
     "output_type": "execute_result"
    }
   ],
   "source": [
    "# Grab a row to see contents\n",
    "sample_X, sample_y = training_dataset[2]\n",
    "sample_X.shape, sample_y"
   ]
  },
  {
   "cell_type": "markdown",
   "metadata": {},
   "source": [
    "### Define Data Loader  \n",
    "\n",
    "Data Loader for extracting batches from the Pytorch Dataset during model training"
   ]
  },
  {
   "cell_type": "code",
   "execution_count": 35,
   "metadata": {},
   "outputs": [],
   "source": [
    "def batch_collater(batch):\n",
    "    X_batch, y_batch = list(zip(*batch))\n",
    "    \n",
    "    # Separate batch into X and y\n",
    "    X_batch = [x for x in X_batch if len(x) > 0]\n",
    "    y_batch = [torch.tensor(y) for y, x in zip(y_batch, X_batch) if len(x) > 0]\n",
    "    \n",
    "    # Convert into tensors\n",
    "    X_tensor = torch.stack(X_batch)\n",
    "    y_tensor = torch.stack(y_batch).long()\n",
    "    \n",
    "    return X_tensor, y_tensor"
   ]
  },
  {
   "cell_type": "code",
   "execution_count": 36,
   "metadata": {},
   "outputs": [],
   "source": [
    "# Specify batch size\n",
    "batch_size = 30\n",
    "\n",
    "training_loader = DataLoader(training_dataset, batch_size = batch_size, shuffle=True, collate_fn=batch_collater)\n",
    "testing_loader = DataLoader(testing_dataset, batch_size = batch_size, shuffle=True, collate_fn=batch_collater)"
   ]
  },
  {
   "cell_type": "code",
   "execution_count": 37,
   "metadata": {},
   "outputs": [
    {
     "name": "stdout",
     "output_type": "stream",
     "text": [
      "torch.Size([30, 20, 168]) torch.Size([30])\n",
      "torch.Size([30, 20, 168]) torch.Size([30])\n"
     ]
    }
   ],
   "source": [
    "for xb, yb in training_loader:\n",
    "    print(xb.shape, yb.shape)\n",
    "    break\n",
    "\n",
    "for xb, yb in testing_loader:\n",
    "    print(xb.shape, yb.shape)\n",
    "    break"
   ]
  },
  {
   "cell_type": "markdown",
   "metadata": {},
   "source": [
    "## Model Definition \n",
    "Define LSTM architecture and optimizer settings."
   ]
  },
  {
   "cell_type": "code",
   "execution_count": 38,
   "metadata": {},
   "outputs": [],
   "source": [
    "class SyncRNN(nn.Module):\n",
    "    \n",
    "    def __init__(self, params_model):\n",
    "        \n",
    "        super(SyncRNN, self).__init__()\n",
    "        \n",
    "        # Import Model Parameters\n",
    "        num_classes = params_model[\"num_classes\"]\n",
    "        dr_rate = params_model[\"dr_rate\"] # dropout rate\n",
    "        rnn_hidden_size = params_model[\"rnn_hidden_size\"]\n",
    "        rnn_num_layers = params_model[\"rnn_num_layers\"]\n",
    "        num_features = 168\n",
    "        \n",
    "        # Define Model Structure\n",
    "        self.dropout = nn.Dropout(dr_rate) # - do we need this?\n",
    "        self.rnn = nn.LSTM(num_features, rnn_hidden_size, rnn_num_layers)\n",
    "        self.fc1 = nn.Linear(rnn_hidden_size, num_classes)\n",
    "        \n",
    "    def forward(self, x):\n",
    "        \n",
    "        # batch count, frame count, feature size\n",
    "        batch_count, frame_count, feature_size = x.shape\n",
    "        frame_idx = 0\n",
    "        \n",
    "        # Reshape the frame\n",
    "        shaped_frame = x[:, frame_idx].view(batch_count, 1, feature_size)\n",
    "        \n",
    "        # Feed the first frame into the rnn\n",
    "        output, (hn, cn) = self.rnn(shaped_frame)\n",
    "        \n",
    "        # Feed the rest of the frames \n",
    "        for frame_idx in range(1, frame_count):\n",
    "            shaped_frame = x[:, frame_idx].view(batch_count, 1, feature_size)\n",
    "            output, (hn, cn) = self.rnn(shaped_frame, (hn, cn))\n",
    "        \n",
    "        output = self.fc1(output)\n",
    "        return output     "
   ]
  },
  {
   "cell_type": "markdown",
   "metadata": {},
   "source": [
    "Choose between regression or classification model and select type of loss.\n",
    "\n",
    "Modify `loss_fn` and `weight_path` to choose the most appropriate loss function and save the results in a directory of your choice."
   ]
  },
  {
   "cell_type": "code",
   "execution_count": 46,
   "metadata": {},
   "outputs": [],
   "source": [
    "### --------------------------------------------\n",
    "# Choose whether to use classification model or regression model\n",
    "classif_model = True\n",
    "reg_model = False\n",
    "### --------------------------------------------\n",
    "assert (classif_model != reg_model), print(\"ERROR: Choose one model only\")\n",
    "\n",
    "# Define Loss Function\n",
    "if classif_model:\n",
    "    loss_fn = nn.CrossEntropyLoss(reduction=\"sum\")\n",
    "    weight_path = \"./models/weights_leon_test.pt\"\n",
    "    num_class = 10\n",
    "\n",
    "if reg_model:\n",
    "    # choose between L1 and MSE\n",
    "    #loss_fn = nn.L1Loss(reduction=\"sum\")\n",
    "    loss_fn = nn.MSELoss(reduction=\"sum\")\n",
    "    weight_path = \"./models/weights_real_mse.pt\"\n",
    "    num_class = 1\n",
    "\n",
    "\n",
    "# RNN Model Parameters\n",
    "model_params = {\n",
    "    \"num_classes\": num_class,\n",
    "    \"dr_rate\": 0.1,\n",
    "    \"rnn_num_layers\": 1,\n",
    "    \"rnn_hidden_size\": 500,\n",
    "}\n",
    "model = SyncRNN(model_params)"
   ]
  },
  {
   "cell_type": "code",
   "execution_count": 47,
   "metadata": {},
   "outputs": [
    {
     "name": "stdout",
     "output_type": "stream",
     "text": [
      "torch.Size([1, 1, 10])\n"
     ]
    }
   ],
   "source": [
    "# Test Model with dummy input\n",
    "with torch.no_grad():\n",
    "    x = torch.zeros(1, 50, 168)\n",
    "    y = model(x)\n",
    "    print(y.shape) # should be [1,1,10] for classification and [1,1,1] for regression"
   ]
  },
  {
   "cell_type": "code",
   "execution_count": 48,
   "metadata": {},
   "outputs": [
    {
     "name": "stdout",
     "output_type": "stream",
     "text": [
      "cpu\n"
     ]
    },
    {
     "data": {
      "text/plain": [
       "SyncRNN(\n",
       "  (dropout): Dropout(p=0.1, inplace=False)\n",
       "  (rnn): LSTM(168, 500)\n",
       "  (fc1): Linear(in_features=500, out_features=10, bias=True)\n",
       ")"
      ]
     },
     "execution_count": 48,
     "metadata": {},
     "output_type": "execute_result"
    }
   ],
   "source": [
    "device = torch.device(\"cuda:0\" if torch.cuda.is_available() else \"cpu\")\n",
    "print(device)\n",
    "\n",
    "# Print Model Params\n",
    "model = model.to(device)\n",
    "model"
   ]
  },
  {
   "cell_type": "markdown",
   "metadata": {},
   "source": [
    "Define optimizer settings"
   ]
  },
  {
   "cell_type": "code",
   "execution_count": 51,
   "metadata": {},
   "outputs": [],
   "source": [
    "# Define Optimizer (Adam)\n",
    "optimizer = optim.Adam(model.parameters(), lr = 3e-3)\n",
    "\n",
    "# Define LR Scheduler\n",
    "lr_scheduler = ReduceLROnPlateau(optimizer, mode='min', factor=0.7, patience = 5, verbose=1)\n",
    "os.makedirs(\"./models\", exist_ok=True)"
   ]
  },
  {
   "cell_type": "code",
   "execution_count": 60,
   "metadata": {},
   "outputs": [],
   "source": [
    "# Define Training Parameters\n",
    "train_params = {\n",
    "    \"num_epochs\": 5, \n",
    "    \"optimizer\": optimizer,\n",
    "    \"loss_fn\": loss_fn,\n",
    "    \"training_loader\": training_loader,\n",
    "    \"testing_loader\": testing_loader,\n",
    "    \"lr_scheduler\": lr_scheduler,\n",
    "    \"weights_path\": weight_path,\n",
    "}"
   ]
  },
  {
   "cell_type": "markdown",
   "metadata": {},
   "source": [
    "## Model Training  \n",
    "\n",
    "Train network and display train/test accuracies."
   ]
  },
  {
   "cell_type": "code",
   "execution_count": 62,
   "metadata": {
    "scrolled": true
   },
   "outputs": [
    {
     "name": "stdout",
     "output_type": "stream",
     "text": [
      "Epoch 0/4, current_lr=0.003\n"
     ]
    },
    {
     "data": {
      "application/vnd.jupyter.widget-view+json": {
       "model_id": "6b5741525ee14260a21f106492239016",
       "version_major": 2,
       "version_minor": 0
      },
      "text/plain": [
       "HBox(children=(IntProgress(value=0, max=16), HTML(value='')))"
      ]
     },
     "metadata": {},
     "output_type": "display_data"
    },
    {
     "name": "stdout",
     "output_type": "stream",
     "text": [
      "\n"
     ]
    },
    {
     "data": {
      "application/vnd.jupyter.widget-view+json": {
       "model_id": "fbe3359d6df14162a0227447498b7c0e",
       "version_major": 2,
       "version_minor": 0
      },
      "text/plain": [
       "HBox(children=(IntProgress(value=0, max=2), HTML(value='')))"
      ]
     },
     "metadata": {},
     "output_type": "display_data"
    },
    {
     "name": "stdout",
     "output_type": "stream",
     "text": [
      "\n",
      "Saved best model weights\n",
      "Train Loss: 2.348443, Dev Loss: 2.373600, Accuracy: 13.73\n",
      "----------\n",
      "Epoch 1/4, current_lr=0.003\n"
     ]
    },
    {
     "data": {
      "application/vnd.jupyter.widget-view+json": {
       "model_id": "f2d464a914524c0e81ce324554e0ec8e",
       "version_major": 2,
       "version_minor": 0
      },
      "text/plain": [
       "HBox(children=(IntProgress(value=0, max=16), HTML(value='')))"
      ]
     },
     "metadata": {},
     "output_type": "display_data"
    },
    {
     "name": "stdout",
     "output_type": "stream",
     "text": [
      "\n"
     ]
    },
    {
     "data": {
      "application/vnd.jupyter.widget-view+json": {
       "model_id": "c91f64adf3d146b3bbb5f4bd779bd32f",
       "version_major": 2,
       "version_minor": 0
      },
      "text/plain": [
       "HBox(children=(IntProgress(value=0, max=2), HTML(value='')))"
      ]
     },
     "metadata": {},
     "output_type": "display_data"
    },
    {
     "name": "stdout",
     "output_type": "stream",
     "text": [
      "\n",
      "Saved best model weights\n",
      "Train Loss: 2.354478, Dev Loss: 2.342205, Accuracy: 9.80\n",
      "----------\n",
      "Epoch 2/4, current_lr=0.003\n"
     ]
    },
    {
     "data": {
      "application/vnd.jupyter.widget-view+json": {
       "model_id": "c91e00cb72734d4dbb5767bee560f6b8",
       "version_major": 2,
       "version_minor": 0
      },
      "text/plain": [
       "HBox(children=(IntProgress(value=0, max=16), HTML(value='')))"
      ]
     },
     "metadata": {},
     "output_type": "display_data"
    },
    {
     "name": "stdout",
     "output_type": "stream",
     "text": [
      "\n"
     ]
    },
    {
     "data": {
      "application/vnd.jupyter.widget-view+json": {
       "model_id": "6661797d0fcc445084ebebe2745659d0",
       "version_major": 2,
       "version_minor": 0
      },
      "text/plain": [
       "HBox(children=(IntProgress(value=0, max=2), HTML(value='')))"
      ]
     },
     "metadata": {},
     "output_type": "display_data"
    },
    {
     "name": "stdout",
     "output_type": "stream",
     "text": [
      "\n",
      "Saved best model weights\n",
      "Train Loss: 2.340962, Dev Loss: 2.335858, Accuracy: 9.80\n",
      "----------\n",
      "Epoch 3/4, current_lr=0.003\n"
     ]
    },
    {
     "data": {
      "application/vnd.jupyter.widget-view+json": {
       "model_id": "ed61f95806a642cdab2a40850f85f43a",
       "version_major": 2,
       "version_minor": 0
      },
      "text/plain": [
       "HBox(children=(IntProgress(value=0, max=16), HTML(value='')))"
      ]
     },
     "metadata": {},
     "output_type": "display_data"
    },
    {
     "name": "stdout",
     "output_type": "stream",
     "text": [
      "\n"
     ]
    },
    {
     "data": {
      "application/vnd.jupyter.widget-view+json": {
       "model_id": "0d9982a99c3e46bdbec9383cf2a3fdfe",
       "version_major": 2,
       "version_minor": 0
      },
      "text/plain": [
       "HBox(children=(IntProgress(value=0, max=2), HTML(value='')))"
      ]
     },
     "metadata": {},
     "output_type": "display_data"
    },
    {
     "name": "stdout",
     "output_type": "stream",
     "text": [
      "\n",
      "Train Loss: 2.348426, Dev Loss: 2.377753, Accuracy: 9.80\n",
      "----------\n",
      "Epoch 4/4, current_lr=0.003\n"
     ]
    },
    {
     "data": {
      "application/vnd.jupyter.widget-view+json": {
       "model_id": "4c52f2138f74489f846a95c22454af1f",
       "version_major": 2,
       "version_minor": 0
      },
      "text/plain": [
       "HBox(children=(IntProgress(value=0, max=16), HTML(value='')))"
      ]
     },
     "metadata": {},
     "output_type": "display_data"
    },
    {
     "name": "stdout",
     "output_type": "stream",
     "text": [
      "\n"
     ]
    },
    {
     "data": {
      "application/vnd.jupyter.widget-view+json": {
       "model_id": "166ec03b62a041428e3ca2a97f420c93",
       "version_major": 2,
       "version_minor": 0
      },
      "text/plain": [
       "HBox(children=(IntProgress(value=0, max=2), HTML(value='')))"
      ]
     },
     "metadata": {},
     "output_type": "display_data"
    },
    {
     "name": "stdout",
     "output_type": "stream",
     "text": [
      "\n",
      "Train Loss: 2.347834, Dev Loss: 2.340990, Accuracy: 9.80\n",
      "----------\n"
     ]
    }
   ],
   "source": [
    "# train model\n",
    "if classif_model:\n",
    "    trained_model, loss_hist, metric_hist = trainutils.train_model_class(model, train_params)\n",
    "if reg_model:\n",
    "    trained_model, loss_hist, metric_hist = trainutils.train_model_reg(model, train_params)"
   ]
  },
  {
   "cell_type": "code",
   "execution_count": 63,
   "metadata": {},
   "outputs": [
    {
     "data": {
      "image/png": "[encoded data removed]",
      "text/plain": [
       "<Figure size 432x288 with 1 Axes>"
      ]
     },
     "metadata": {
      "needs_background": "light"
     },
     "output_type": "display_data"
    },
    {
     "data": {
      "image/png": "[encoded data removed]",
      "text/plain": [
       "<Figure size 432x288 with 1 Axes>"
      ]
     },
     "metadata": {
      "needs_background": "light"
     },
     "output_type": "display_data"
    }
   ],
   "source": [
    "# plot loss and accuracies over epochs\n",
    "trainutils.plot_loss(loss_hist, metric_hist)"
   ]
  },
  {
   "cell_type": "code",
   "execution_count": null,
   "metadata": {},
   "outputs": [],
   "source": []
  }
 ],
 "metadata": {
  "kernelspec": {
   "display_name": "Python 3",
   "language": "python",
   "name": "python3"
  },
  "language_info": {
   "codemirror_mode": {
    "name": "ipython",
    "version": 3
   },
   "file_extension": ".py",
   "mimetype": "text/x-python",
   "name": "python",
   "nbconvert_exporter": "python",
   "pygments_lexer": "ipython3",
   "version": "3.7.4"
  }
 },
 "nbformat": 4,
 "nbformat_minor": 2
}
