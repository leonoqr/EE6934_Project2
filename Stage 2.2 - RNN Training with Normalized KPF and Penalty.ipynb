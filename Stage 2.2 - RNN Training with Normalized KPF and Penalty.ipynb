{
 "cells": [
  {
   "cell_type": "markdown",
   "metadata": {},
   "source": [
    "# Train LSTM network using Keypoint Features"
   ]
  },
  {
   "cell_type": "markdown",
   "metadata": {},
   "source": [
    "## Import libraries"
   ]
  },
  {
   "cell_type": "code",
   "execution_count": 2,
   "metadata": {},
   "outputs": [],
   "source": [
    "# Basic functions\n",
    "import os\n",
    "import torch\n",
    "import numpy as np\n",
    "import re\n",
    "from importlib import reload\n",
    "\n",
    "# Training/Test Set Creation - to use later\n",
    "from sklearn.model_selection import StratifiedShuffleSplit\n",
    "\n",
    "# Dataset Creation\n",
    "from collections import Counter\n",
    "from torch.utils.data import Dataset, DataLoader, Subset\n",
    "import torchvision.transforms as transforms\n",
    "from sklearn.preprocessing import MinMaxScaler\n",
    "from sklearn.preprocessing import normalize\n",
    "\n",
    "# Model Training and Definition\n",
    "from torch import nn\n",
    "from torch import optim\n",
    "from torch.optim.lr_scheduler import CosineAnnealingLR, ReduceLROnPlateau\n",
    "import trainutils\n",
    "import vidutils"
   ]
  },
  {
   "cell_type": "markdown",
   "metadata": {},
   "source": [
    "## Create Training and Test Sets"
   ]
  },
  {
   "cell_type": "markdown",
   "metadata": {},
   "source": [
    "### Load training data\n",
    "Choose between using synthetic data, real data or both. \n",
    "\n",
    "Usage example: If only real data is to be used, set `real_data` to `True` and `syn_data` to `False`."
   ]
  },
  {
   "cell_type": "code",
   "execution_count": 3,
   "metadata": {},
   "outputs": [
    {
     "name": "stdout",
     "output_type": "stream",
     "text": [
      "Current Video: video3\n",
      "Current Video: video4\n",
      "Current Video: video2\n",
      "Current Video: video1\n"
     ]
    }
   ],
   "source": [
    "### --------------------------------------------\n",
    "# Choose datasets to use\n",
    "real_data = True\n",
    "syn_data = False\n",
    "### --------------------------------------------\n",
    "\n",
    "X_paths = [] # paths of segment folders\n",
    "y = [] # designated label\n",
    "\n",
    "if real_data:\n",
    "    # Specify directories\n",
    "    frame_folder = \"./data/frames\"\n",
    "    \n",
    "    # Construct X = folder names, y = the label\n",
    "    vf_list = []\n",
    "    for f in os.listdir(frame_folder):\n",
    "        if not f.startswith('.'):\n",
    "            vf_list.append(f)\n",
    "    \n",
    "    for vf_folder in vf_list:\n",
    "        # Create path to video\n",
    "        vf_path = os.path.join(frame_folder, vf_folder)\n",
    "        print(\"Current Video: \"+ vf_folder)\n",
    "\n",
    "        # Get individual segment folder\n",
    "        segfolder_list = os.listdir(vf_path)\n",
    "\n",
    "        # Check every segment folder\n",
    "        for seg_folder in segfolder_list:\n",
    "\n",
    "            if not seg_folder.startswith('.'):\n",
    "                x_path = os.path.join(vf_path, seg_folder)\n",
    "                X_paths.append(x_path + '/features.npz')\n",
    "\n",
    "                # Extract class label from folder name\n",
    "                label = int(seg_folder.split(\"_\")[2])\n",
    "                y.append(label)\n",
    "        \n",
    "if syn_data:\n",
    "    # define synthetic data directory\n",
    "    output_dir = './synthetic_data/output'\n",
    "    output_list = os.listdir(output_dir)\n",
    "\n",
    "    for output_folder in output_list:\n",
    "        if output_folder.startswith('vid'):\n",
    "            x_path = output_dir + '/' + output_folder\n",
    "            X_paths.append(x_path)\n",
    "\n",
    "            # Extract class label from folder name\n",
    "            params = re.findall(r'\\d+', output_folder)\n",
    "            label = int( (int(params[3]) - 1) / 100)\n",
    "            y.append(label)"
   ]
  },
  {
   "cell_type": "code",
   "execution_count": 4,
   "metadata": {},
   "outputs": [
    {
     "data": {
      "text/plain": [
       "Counter({3: 50, 4: 50, 6: 48, 1: 54, 5: 51, 8: 52, 2: 49, 9: 52, 0: 48, 7: 50})"
      ]
     },
     "execution_count": 4,
     "metadata": {},
     "output_type": "execute_result"
    }
   ],
   "source": [
    "# Preview Data distribution\n",
    "from collections import Counter\n",
    "Counter(y)"
   ]
  },
  {
   "cell_type": "code",
   "execution_count": 5,
   "metadata": {},
   "outputs": [
    {
     "name": "stdout",
     "output_type": "stream",
     "text": [
      "Training Set: (453,453)\n",
      "Test Set: (51,51)\n"
     ]
    }
   ],
   "source": [
    "# Split into training and test sets\n",
    "splitter = StratifiedShuffleSplit(n_splits = 2, test_size = 0.1, random_state = 0)\n",
    "train_set, test_set = next(splitter.split(X_paths, y))\n",
    "\n",
    "# Training Set\n",
    "train_X_paths = [X_paths[i] for i in train_set]\n",
    "train_ys = [y[i] for i in train_set]\n",
    "print(\"Training Set: ({0},{1})\".format(len(train_X_paths), len(train_ys)))\n",
    "\n",
    "# Test Set\n",
    "test_X_paths = [X_paths[i] for i in test_set]\n",
    "test_ys = [y[i] for i in test_set]\n",
    "print(\"Test Set: ({0},{1})\".format(len(test_X_paths), len(test_ys)))\n",
    "#print(test_X_paths)"
   ]
  },
  {
   "cell_type": "markdown",
   "metadata": {},
   "source": [
    "### Conversion to Pytorch Dataset\n",
    "Set seeds for reproducibility and produce pytorch tensor for training."
   ]
  },
  {
   "cell_type": "code",
   "execution_count": 6,
   "metadata": {},
   "outputs": [
    {
     "data": {
      "text/plain": [
       "<torch._C.Generator at 0x10a8ef0d0>"
      ]
     },
     "execution_count": 6,
     "metadata": {},
     "output_type": "execute_result"
    }
   ],
   "source": [
    "# Set seeds for reproducibility\n",
    "np.random.seed(4139)\n",
    "torch.manual_seed(4139)"
   ]
  },
  {
   "cell_type": "markdown",
   "metadata": {},
   "source": [
    "Definition of dataset class and normalization function"
   ]
  },
  {
   "cell_type": "code",
   "execution_count": 7,
   "metadata": {},
   "outputs": [],
   "source": [
    "# Define Dataset Class\n",
    "class SyncDataset(Dataset):\n",
    "    \n",
    "    def __init__(self, X, y, transform=None):\n",
    "        self.transform = transform\n",
    "        self.X = X\n",
    "        self.y = y\n",
    "    \n",
    "    # Returns length\n",
    "    def __len__(self):\n",
    "        return len(self.X)\n",
    "    \n",
    "    # Returns X feature array and y value\n",
    "    def __getitem__(self, idx):\n",
    "        \n",
    "        # Load npz file\n",
    "        npz_path = self.X[idx]\n",
    "        data = np.load(npz_path)\n",
    "        num_frames = 20\n",
    "        \n",
    "        # extract features (different based on synthetic or real)\n",
    "        if npz_path.startswith('./data/'):\n",
    "            X_feat = data['feature_array']\n",
    "        else:\n",
    "            X_feat = vidutils_leon.reshape_syn_features \\\n",
    "            (data['subset_all'][:num_frames], data['candidate_all'][:num_frames])\n",
    "        \n",
    "         # apply transform\n",
    "        if self.transform:\n",
    "            X_tensor = self.transform(X_feat).squeeze().float()\n",
    "        else:\n",
    "            # Convert X to tensor\n",
    "            X_tensor = torch.from_numpy(X_feat).float()\n",
    "        \n",
    "        return X_tensor, self.y[idx] # y_tensor\n",
    "\n",
    "# Define normalization function\n",
    "class norm_with_saved(object):\n",
    "    \"\"\"\n",
    "    Rescale each feature by subtracting mean and dividing by SD over all subjects\n",
    "    IMPORTANT: Calculate saved_mean and saved_std first.\n",
    "    \"\"\"\n",
    "    def __call__(self, sample):\n",
    "        # squeeze tensor\n",
    "        sample = sample.squeeze()\n",
    "        # normalize\n",
    "        scaled_sample = (sample - saved_mean)/saved_std\n",
    "        return scaled_sample"
   ]
  },
  {
   "cell_type": "code",
   "execution_count": 8,
   "metadata": {},
   "outputs": [],
   "source": [
    "# precalculate means and std\n",
    "dataset = []\n",
    "training_dataset = SyncDataset(X = train_X_paths, y = train_ys)\n",
    "for train_X, train_y in training_dataset:\n",
    "    new_row = train_X.data.numpy()\n",
    "    if len(dataset) == 0:\n",
    "        dataset = new_row\n",
    "    else:\n",
    "        dataset = np.vstack((dataset,new_row))\n",
    "saved_mean = np.mean(dataset, axis=0) \n",
    "saved_std = np.std(dataset, axis=0) \n",
    "saved_std[saved_std == 0] = 0.00001 # prevent error dividing by 0\n",
    "\n",
    "# Define Transformer\n",
    "transformer = transforms.Compose([\n",
    "    norm_with_saved(),\n",
    "    transforms.ToTensor()\n",
    "])"
   ]
  },
  {
   "cell_type": "code",
   "execution_count": 9,
   "metadata": {},
   "outputs": [
    {
     "name": "stdout",
     "output_type": "stream",
     "text": [
      "453\n",
      "51\n"
     ]
    }
   ],
   "source": [
    "# Define Training Dataset \n",
    "training_dataset = SyncDataset(X = train_X_paths, y = train_ys, transform = transformer)\n",
    "print(len(training_dataset))\n",
    "\n",
    "# Define Test Dataset\n",
    "testing_dataset = SyncDataset(X = test_X_paths, y = test_ys, transform = transformer)\n",
    "print(len(testing_dataset))"
   ]
  },
  {
   "cell_type": "code",
   "execution_count": 10,
   "metadata": {},
   "outputs": [
    {
     "data": {
      "text/plain": [
       "(torch.Size([20, 168]), 6)"
      ]
     },
     "execution_count": 10,
     "metadata": {},
     "output_type": "execute_result"
    }
   ],
   "source": [
    "# Grab a row to see contents\n",
    "sample_X, sample_y = training_dataset[2]\n",
    "sample_X.shape, sample_y"
   ]
  },
  {
   "cell_type": "markdown",
   "metadata": {},
   "source": [
    "## Define Data Loader  \n",
    "Data Loader for extracting batches from the Pytorch Dataset during model training"
   ]
  },
  {
   "cell_type": "code",
   "execution_count": 11,
   "metadata": {},
   "outputs": [],
   "source": [
    "def batch_collater(batch):\n",
    "    X_batch, y_batch = list(zip(*batch))\n",
    "    \n",
    "    # Separate batch into X and y\n",
    "    X_batch = [x for x in X_batch if len(x) > 0]\n",
    "    y_batch = [torch.tensor(y) for y, x in zip(y_batch, X_batch) if len(x) > 0]\n",
    "    \n",
    "    # Convert into tensors\n",
    "    X_tensor = torch.stack(X_batch)\n",
    "    y_tensor = torch.stack(y_batch).long()\n",
    "    \n",
    "    return X_tensor, y_tensor"
   ]
  },
  {
   "cell_type": "code",
   "execution_count": 12,
   "metadata": {},
   "outputs": [
    {
     "name": "stdout",
     "output_type": "stream",
     "text": [
      "torch.Size([30, 20, 168]) torch.Size([30])\n",
      "torch.Size([30, 20, 168]) torch.Size([30])\n"
     ]
    }
   ],
   "source": [
    "# Specify batch size\n",
    "batch_size = 30\n",
    "\n",
    "training_loader = DataLoader(training_dataset, batch_size = batch_size, shuffle=True, collate_fn=batch_collater)\n",
    "testing_loader = DataLoader(testing_dataset, batch_size = batch_size, shuffle=True, collate_fn=batch_collater)\n",
    "\n",
    "# check shapes\n",
    "for xb, yb in training_loader:\n",
    "    print(xb.shape, yb.shape)\n",
    "    break\n",
    "\n",
    "for xb, yb in testing_loader:\n",
    "    print(xb.shape, yb.shape)\n",
    "    break"
   ]
  },
  {
   "cell_type": "markdown",
   "metadata": {},
   "source": [
    "## Model Definition \n",
    "Define LSTM architecture and optimizer settings."
   ]
  },
  {
   "cell_type": "code",
   "execution_count": 13,
   "metadata": {},
   "outputs": [
    {
     "name": "stdout",
     "output_type": "stream",
     "text": [
      "cpu\n"
     ]
    }
   ],
   "source": [
    "device = torch.device(\"cuda:0\" if torch.cuda.is_available() else \"cpu\")\n",
    "print(device)"
   ]
  },
  {
   "cell_type": "code",
   "execution_count": 14,
   "metadata": {},
   "outputs": [],
   "source": [
    "class SyncRNN(nn.Module):\n",
    "    \n",
    "    def __init__(self, params_model):\n",
    "        \n",
    "        super(SyncRNN, self).__init__()\n",
    "        \n",
    "        # Import Model Parameters\n",
    "        num_classes = params_model[\"num_classes\"]\n",
    "        dr_rate = params_model[\"dr_rate\"] # dropout rate\n",
    "        rnn_hidden_size = params_model[\"rnn_hidden_size\"]\n",
    "        rnn_num_layers = params_model[\"rnn_num_layers\"]\n",
    "        num_features = 168\n",
    "        \n",
    "        # Define Model Structure\n",
    "        self.dropout = nn.Dropout(dr_rate) # - do we need this?\n",
    "        self.rnn = nn.LSTM(num_features, rnn_hidden_size, rnn_num_layers)\n",
    "        self.fc1 = nn.Linear(rnn_hidden_size, num_classes)\n",
    "        \n",
    "    def forward(self, x):\n",
    "        \n",
    "        # batch count, frame count, feature size\n",
    "        batch_count, frame_count, feature_size = x.shape\n",
    "        frame_idx = 0\n",
    "        \n",
    "        # Reshape the frame\n",
    "        shaped_frame = x[:, frame_idx].view(batch_count, 1, feature_size)\n",
    "        \n",
    "        # Feed the first frame into the rnn\n",
    "        output, (hn, cn) = self.rnn(shaped_frame)\n",
    "        \n",
    "        # Feed the rest of the frames \n",
    "        for frame_idx in range(1, frame_count):\n",
    "            shaped_frame = x[:, frame_idx].view(batch_count, 1, feature_size)\n",
    "            output, (hn, cn) = self.rnn(shaped_frame, (hn, cn))\n",
    "        \n",
    "        output = self.fc1(output)\n",
    "        return output"
   ]
  },
  {
   "cell_type": "markdown",
   "metadata": {},
   "source": [
    "Choose between regression or classification model and select type of loss.\n",
    "\n",
    "Modify `loss_fn` and `weight_path` to choose the most appropriate loss function and save the results in a directory of your choice.\n",
    "\n",
    "NOTE: For this notebook, please use the classification model only"
   ]
  },
  {
   "cell_type": "code",
   "execution_count": 15,
   "metadata": {},
   "outputs": [],
   "source": [
    "### --------------------------------------------\n",
    "# Choose whether to use classification model or regression model\n",
    "classif_model = True\n",
    "reg_model = False\n",
    "### --------------------------------------------\n",
    "assert (classif_model), print(\"ERROR: Please choose classification model\")\n",
    "\n",
    "# Define Loss Function\n",
    "if classif_model:\n",
    "    ce_lossfn = nn.CrossEntropyLoss(reduction=\"sum\")\n",
    "    #loss_fn = nn.CrossEntropyLoss(reduction=\"sum\")\n",
    "    weight_path = \"./models/weights_leon_test.pt\"\n",
    "    num_class = 10\n",
    "\n",
    "if reg_model:\n",
    "    # choose between L1 and MSE\n",
    "    #loss_fn = nn.L1Loss(reduction=\"sum\")\n",
    "    loss_fn = nn.MSELoss(reduction=\"sum\")\n",
    "    weight_path = \"./models/weights_real_mse.pt\"\n",
    "    num_class = 1\n",
    "\n",
    "\n",
    "# RNN Model Parameters\n",
    "model_params = {\n",
    "    \"num_classes\": num_class,\n",
    "    \"dr_rate\": 0.1,\n",
    "    \"rnn_num_layers\": 1,\n",
    "    \"rnn_hidden_size\": 500,\n",
    "}\n",
    "model = SyncRNN(model_params)"
   ]
  },
  {
   "cell_type": "code",
   "execution_count": 16,
   "metadata": {},
   "outputs": [
    {
     "name": "stdout",
     "output_type": "stream",
     "text": [
      "torch.Size([1, 1, 10])\n"
     ]
    }
   ],
   "source": [
    "# Test Model with dummy input\n",
    "with torch.no_grad():\n",
    "    x = torch.zeros(1, 50, 168)\n",
    "    y = model(x)\n",
    "    print(y.shape) # should be [1,1,10] for classification and [1,1,1] for regression"
   ]
  },
  {
   "cell_type": "code",
   "execution_count": 17,
   "metadata": {},
   "outputs": [
    {
     "name": "stdout",
     "output_type": "stream",
     "text": [
      "cpu\n"
     ]
    },
    {
     "data": {
      "text/plain": [
       "SyncRNN(\n",
       "  (dropout): Dropout(p=0.1, inplace=False)\n",
       "  (rnn): LSTM(168, 500)\n",
       "  (fc1): Linear(in_features=500, out_features=10, bias=True)\n",
       ")"
      ]
     },
     "execution_count": 17,
     "metadata": {},
     "output_type": "execute_result"
    }
   ],
   "source": [
    "device = torch.device(\"cuda:0\" if torch.cuda.is_available() else \"cpu\")\n",
    "print(device)\n",
    "\n",
    "# Print Model Params\n",
    "model = model.to(device)\n",
    "model"
   ]
  },
  {
   "cell_type": "markdown",
   "metadata": {},
   "source": [
    "Define optimizer settings"
   ]
  },
  {
   "cell_type": "code",
   "execution_count": 20,
   "metadata": {},
   "outputs": [],
   "source": [
    "# Define Optimizer (Adam)\n",
    "ce_optimizer = optim.Adam(model.parameters(), lr = 0.2)\n",
    "\n",
    "# Define LR Scheduler\n",
    "ce_lr_scheduler = ReduceLROnPlateau(ce_optimizer, mode='min', factor=0.7, patience = 5, verbose=1)\n",
    "os.makedirs(\"./models\", exist_ok=True)"
   ]
  },
  {
   "cell_type": "code",
   "execution_count": 21,
   "metadata": {},
   "outputs": [],
   "source": [
    "# Define Training Parameters\n",
    "train_params = {\n",
    "    \"num_epochs\": 5,\n",
    "    \"ce_optimizer\": ce_optimizer,\n",
    "    \"ce_lossfn\": ce_lossfn,\n",
    "    \"penalty_weight\": 0.3, # 70% CE, 30% class penalty\n",
    "    \"training_loader\": training_loader,\n",
    "    \"testing_loader\": testing_loader,\n",
    "    \"ce_lr_scheduler\": ce_lr_scheduler,\n",
    "    \"weights_path\": \"./models/weights_norm_compound.pt\",\n",
    "}"
   ]
  },
  {
   "cell_type": "code",
   "execution_count": 22,
   "metadata": {},
   "outputs": [],
   "source": [
    "# Define Loss Function\n",
    "ce_lossfn = nn.CrossEntropyLoss(reduction=\"sum\")\n",
    "\n",
    "# Define Optimizer (Adam)\n",
    "ce_optimizer = optim.Adam(model.parameters(), lr = 0.2) \n",
    "\n",
    "# Define LR Scheduler\n",
    "ce_lr_scheduler = ReduceLROnPlateau(ce_optimizer, mode='min', factor=0.7, patience = 5, verbose=1)\n",
    "os.makedirs(\"./models\", exist_ok=True)\n",
    "\n",
    "# Define Training Parameters - tweak this\n",
    "train_params = {\n",
    "    \"num_epochs\": 5,\n",
    "    \"ce_optimizer\": ce_optimizer,\n",
    "    \"ce_lossfn\": ce_lossfn,\n",
    "    \"penalty_weight\": 0.3, # 70% CE, 30% class penalty\n",
    "    \"training_loader\": training_loader,\n",
    "    \"testing_loader\": testing_loader,\n",
    "    \"ce_lr_scheduler\": ce_lr_scheduler,\n",
    "    \"weights_path\": weight_path,\n",
    "}"
   ]
  },
  {
   "cell_type": "markdown",
   "metadata": {},
   "source": [
    "## Model Training  \n",
    "\n",
    "Train network and display train/test accuracies."
   ]
  },
  {
   "cell_type": "code",
   "execution_count": 23,
   "metadata": {
    "scrolled": true
   },
   "outputs": [
    {
     "name": "stdout",
     "output_type": "stream",
     "text": [
      "Epoch 0/4, current_lr=0.2\n"
     ]
    },
    {
     "data": {
      "application/vnd.jupyter.widget-view+json": {
       "model_id": "6b14052b998443c297ffadbb054f4b4b",
       "version_major": 2,
       "version_minor": 0
      },
      "text/plain": [
       "HBox(children=(IntProgress(value=0, max=16), HTML(value='')))"
      ]
     },
     "metadata": {},
     "output_type": "display_data"
    },
    {
     "name": "stdout",
     "output_type": "stream",
     "text": [
      "\n"
     ]
    },
    {
     "data": {
      "application/vnd.jupyter.widget-view+json": {
       "model_id": "de9d8923ce344d1196a6f28964c92ec0",
       "version_major": 2,
       "version_minor": 0
      },
      "text/plain": [
       "HBox(children=(IntProgress(value=0, max=2), HTML(value='')))"
      ]
     },
     "metadata": {},
     "output_type": "display_data"
    },
    {
     "name": "stdout",
     "output_type": "stream",
     "text": [
      "\n",
      "Saved best model weights\n",
      "Train Loss: 6.834859, Dev Loss: 12.376752, Accuracy: 11.76\n",
      "----------\n",
      "Epoch 1/4, current_lr=0.2\n"
     ]
    },
    {
     "data": {
      "application/vnd.jupyter.widget-view+json": {
       "model_id": "1a16a30c587841ccb7dc4f1e8c6dc915",
       "version_major": 2,
       "version_minor": 0
      },
      "text/plain": [
       "HBox(children=(IntProgress(value=0, max=16), HTML(value='')))"
      ]
     },
     "metadata": {},
     "output_type": "display_data"
    },
    {
     "name": "stdout",
     "output_type": "stream",
     "text": [
      "\n"
     ]
    },
    {
     "data": {
      "application/vnd.jupyter.widget-view+json": {
       "model_id": "f85951b757274fb4abc38cfe91752f1b",
       "version_major": 2,
       "version_minor": 0
      },
      "text/plain": [
       "HBox(children=(IntProgress(value=0, max=2), HTML(value='')))"
      ]
     },
     "metadata": {},
     "output_type": "display_data"
    },
    {
     "name": "stdout",
     "output_type": "stream",
     "text": [
      "\n",
      "Train Loss: 8.432374, Dev Loss: 13.378133, Accuracy: 11.76\n",
      "----------\n",
      "Epoch 2/4, current_lr=0.2\n"
     ]
    },
    {
     "data": {
      "application/vnd.jupyter.widget-view+json": {
       "model_id": "6beaae30147647cc827240673a5c1e59",
       "version_major": 2,
       "version_minor": 0
      },
      "text/plain": [
       "HBox(children=(IntProgress(value=0, max=16), HTML(value='')))"
      ]
     },
     "metadata": {},
     "output_type": "display_data"
    },
    {
     "name": "stdout",
     "output_type": "stream",
     "text": [
      "\n"
     ]
    },
    {
     "data": {
      "application/vnd.jupyter.widget-view+json": {
       "model_id": "19f964a345124ed1b998c5b7eedbf313",
       "version_major": 2,
       "version_minor": 0
      },
      "text/plain": [
       "HBox(children=(IntProgress(value=0, max=2), HTML(value='')))"
      ]
     },
     "metadata": {},
     "output_type": "display_data"
    },
    {
     "name": "stdout",
     "output_type": "stream",
     "text": [
      "\n",
      "Train Loss: 8.472468, Dev Loss: 13.428386, Accuracy: 13.73\n",
      "----------\n",
      "Epoch 3/4, current_lr=0.2\n"
     ]
    },
    {
     "data": {
      "application/vnd.jupyter.widget-view+json": {
       "model_id": "6c4e111cab604d86bd838945948c73d3",
       "version_major": 2,
       "version_minor": 0
      },
      "text/plain": [
       "HBox(children=(IntProgress(value=0, max=16), HTML(value='')))"
      ]
     },
     "metadata": {},
     "output_type": "display_data"
    },
    {
     "name": "stdout",
     "output_type": "stream",
     "text": [
      "\n"
     ]
    },
    {
     "data": {
      "application/vnd.jupyter.widget-view+json": {
       "model_id": "78f27e96272840278191e76c8b6b72c8",
       "version_major": 2,
       "version_minor": 0
      },
      "text/plain": [
       "HBox(children=(IntProgress(value=0, max=2), HTML(value='')))"
      ]
     },
     "metadata": {},
     "output_type": "display_data"
    },
    {
     "name": "stdout",
     "output_type": "stream",
     "text": [
      "\n",
      "Train Loss: 8.891852, Dev Loss: 14.636312, Accuracy: 7.84\n",
      "----------\n",
      "Epoch 4/4, current_lr=0.2\n"
     ]
    },
    {
     "data": {
      "application/vnd.jupyter.widget-view+json": {
       "model_id": "e3b33bacee3f4c178f85140a5a40b69a",
       "version_major": 2,
       "version_minor": 0
      },
      "text/plain": [
       "HBox(children=(IntProgress(value=0, max=16), HTML(value='')))"
      ]
     },
     "metadata": {},
     "output_type": "display_data"
    },
    {
     "name": "stdout",
     "output_type": "stream",
     "text": [
      "\n"
     ]
    },
    {
     "data": {
      "application/vnd.jupyter.widget-view+json": {
       "model_id": "c9d6c59efd5e48cab5cdf25568a6020e",
       "version_major": 2,
       "version_minor": 0
      },
      "text/plain": [
       "HBox(children=(IntProgress(value=0, max=2), HTML(value='')))"
      ]
     },
     "metadata": {},
     "output_type": "display_data"
    },
    {
     "name": "stdout",
     "output_type": "stream",
     "text": [
      "\n",
      "Train Loss: 8.140648, Dev Loss: 12.775522, Accuracy: 13.73\n",
      "----------\n"
     ]
    }
   ],
   "source": [
    "trained_model, loss_hist, metric_hist = trainutils.train_compound_model(model, train_params)"
   ]
  },
  {
   "cell_type": "code",
   "execution_count": 24,
   "metadata": {},
   "outputs": [
    {
     "data": {
      "image/png": "[encoded data removed]",
      "text/plain": [
       "<Figure size 432x288 with 1 Axes>"
      ]
     },
     "metadata": {
      "needs_background": "light"
     },
     "output_type": "display_data"
    },
    {
     "data": {
      "image/png": "[encoded data removed]",
      "text/plain": [
       "<Figure size 432x288 with 1 Axes>"
      ]
     },
     "metadata": {
      "needs_background": "light"
     },
     "output_type": "display_data"
    }
   ],
   "source": [
    "trainutils.plot_loss(loss_hist, metric_hist)"
   ]
  },
  {
   "cell_type": "code",
   "execution_count": null,
   "metadata": {},
   "outputs": [],
   "source": []
  }
 ],
 "metadata": {
  "kernelspec": {
   "display_name": "Python 3",
   "language": "python",
   "name": "python3"
  },
  "language_info": {
   "codemirror_mode": {
    "name": "ipython",
    "version": 3
   },
   "file_extension": ".py",
   "mimetype": "text/x-python",
   "name": "python",
   "nbconvert_exporter": "python",
   "pygments_lexer": "ipython3",
   "version": "3.7.4"
  }
 },
 "nbformat": 4,
 "nbformat_minor": 4
}
